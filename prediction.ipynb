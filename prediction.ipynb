{
 "cells": [
  {
   "cell_type": "code",
   "execution_count": 1,
   "metadata": {},
   "outputs": [],
   "source": [
    "import os\n",
    "# use CPU\n",
    "os.environ[\"CUDA_DEVICE_ORDER\"] = \"PCI_BUS_ID\"   # see issue #152\n",
    "os.environ[\"CUDA_VISIBLE_DEVICES\"] = \"\"\n",
    "\n",
    "import tensorflow as tf\n",
    "model = tf.keras.models.load_model('model.h5')"
   ]
  },
  {
   "cell_type": "code",
   "execution_count": null,
   "metadata": {},
   "outputs": [],
   "source": [
    "img_width,img_height = 256,256\n",
    "#img = load_img('data/validation/thick/0001.png',False,target_size=(img_width,img_height))\n",
    "\n",
    "test_dir = \"data/test/\"\n",
    "\n",
    "test_imgs = os.listdir(test_dir)\n",
    "predicciones = []\n",
    "imagenes = []\n",
    "for img in test_imgs:\n",
    "    imgPath = test_dir + img\n",
    "    if not os.path.isdir(imgPath) :\n",
    "        imgBool = img_as_bool(color.rgb2gray(io.imread(imgPath)))\n",
    "        imagenes.append(imgBool)\n",
    "        \n",
    "        x = img_to_array(imgBool)\n",
    "        x = np.expand_dims(x, axis=0)\n",
    "        clases = model.predict_classes(x)\n",
    "        clase = None\n",
    "        if 1 in clases:\n",
    "            clase = \"Fibra gruesa\"\n",
    "        elif 0 in clases:\n",
    "            clase = \"Fibra delgada\"\n",
    "        predicciones.append(clase)\n",
    "        print(img, \" es \", clase)\n"
   ]
  }
 ],
 "metadata": {
  "kernelspec": {
   "display_name": "Python 3",
   "language": "python",
   "name": "python3"
  },
  "language_info": {
   "codemirror_mode": {
    "name": "ipython",
    "version": 3
   },
   "file_extension": ".py",
   "mimetype": "text/x-python",
   "name": "python",
   "nbconvert_exporter": "python",
   "pygments_lexer": "ipython3",
   "version": "3.7.5"
  }
 },
 "nbformat": 4,
 "nbformat_minor": 4
}
