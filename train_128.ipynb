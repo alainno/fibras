{
 "cells": [
  {
   "cell_type": "code",
   "execution_count": 1,
   "metadata": {},
   "outputs": [
    {
     "name": "stderr",
     "output_type": "stream",
     "text": [
      "Using TensorFlow backend.\n"
     ]
    },
    {
     "name": "stdout",
     "output_type": "stream",
     "text": [
      "version de tensorflow\n",
      "2.0.0\n"
     ]
    },
    {
     "name": "stderr",
     "output_type": "stream",
     "text": [
      "/home/aalejo/anaconda3/envs/iaenv/lib/python3.7/site-packages/skimage/util/dtype.py:131: UserWarning: Possible sign loss when converting negative image of type float64 to positive image of type bool.\n",
      "  .format(dtypeobj_in, dtypeobj_out))\n",
      "/home/aalejo/anaconda3/envs/iaenv/lib/python3.7/site-packages/skimage/util/dtype.py:135: UserWarning: Possible precision loss when converting from float64 to bool\n",
      "  .format(dtypeobj_in, dtypeobj_out))\n"
     ]
    },
    {
     "name": "stdout",
     "output_type": "stream",
     "text": [
      "X_train.shape =  (4000, 128, 128)\n",
      "y_train.shape =  (4000,)\n",
      "X_val.shape =  (800, 128, 128)\n",
      "y_val.shape =  (800,)\n"
     ]
    }
   ],
   "source": [
    "import os\n",
    "from keras.preprocessing.image import ImageDataGenerator, array_to_img, img_to_array, load_img\n",
    "import resource\n",
    "import numpy as np\n",
    "from skimage import img_as_bool, io, color\n",
    "import tensorflow as tf\n",
    "from functions import appendImgs, loadData\n",
    "from tensorflow import keras\n",
    "from keras.layers import Dense, Flatten\n",
    "from keras.models import Sequential\n",
    "from keras.optimizers import SGD, Adam\n",
    "from keras.layers import Dense, Conv2D, Dropout, Flatten, MaxPooling2D, AveragePooling2D, BatchNormalization\n",
    "from keras.regularizers import l2\n",
    "import tensorflow as tf\n",
    "\n",
    "print('version de tensorflow')\n",
    "print(tf.__version__)\n",
    "\n",
    "os.environ[\"CUDA_VISIBLE_DEVICES\"]=\"3\"\n",
    "\n",
    "DATA_DIR = \"../fibergen/data\"\n",
    "TRAIN_DIR = \"train\"\n",
    "VAL_DIR = \"validation\"\n",
    "categories = ['thick', 'thin']\n",
    "\n",
    "trainPath = os.path.join(DATA_DIR, TRAIN_DIR)\n",
    "X_train, y_train = loadData(trainPath, categories)\n",
    "\n",
    "valPath = os.path.join(DATA_DIR, VAL_DIR)\n",
    "X_val, y_val = loadData(valPath, categories)\n",
    "\n",
    "print('X_train.shape = ', X_train.shape)\n",
    "print('y_train.shape = ', y_train.shape)\n",
    "\n",
    "print('X_val.shape = ', X_val.shape)\n",
    "print('y_val.shape = ', y_val.shape)"
   ]
  },
  {
   "cell_type": "code",
   "execution_count": 2,
   "metadata": {},
   "outputs": [
    {
     "data": {
      "text/plain": [
       "Text(0.5, 1.0, 'Fibra delgada (1 a 3px)')"
      ]
     },
     "execution_count": 2,
     "metadata": {},
     "output_type": "execute_result"
    },
    {
     "data": {
      "image/png": "[encoded data removed]",
      "text/plain": [
       "<Figure size 360x360 with 2 Axes>"
      ]
     },
     "metadata": {
      "needs_background": "light"
     },
     "output_type": "display_data"
    }
   ],
   "source": [
    "from random import randint\n",
    "import matplotlib.pyplot as plt\n",
    "\n",
    "total_samples = X_train.shape[0]\n",
    "\n",
    "random_image_thick = randint(0, int(total_samples/2)-1)\n",
    "random_image_thin = randint(int(total_samples/2),total_samples)\n",
    "\n",
    "fig, axs = plt.subplots(1, 2, figsize=(5,5))\n",
    "\n",
    "axs[0].imshow(X_train[random_image_thick],cmap='gray')\n",
    "axs[0].set_title(\"Fibra gruesa (4 a 7px)\")\n",
    "axs[1].imshow(X_train[random_image_thin],cmap='gray')\n",
    "axs[1].set_title(\"Fibra delgada (1 a 3px)\")\n"
   ]
  },
  {
   "cell_type": "code",
   "execution_count": 4,
   "metadata": {},
   "outputs": [
    {
     "name": "stdout",
     "output_type": "stream",
     "text": [
      "Model: \"model_2\"\n",
      "__________________________________________________________________________________________________\n",
      "Layer (type)                    Output Shape         Param #     Connected to                     \n",
      "==================================================================================================\n",
      "input_3 (InputLayer)            (None, 16)           0                                            \n",
      "__________________________________________________________________________________________________\n",
      "input_4 (InputLayer)            (None, 32)           0                                            \n",
      "__________________________________________________________________________________________________\n",
      "dense_4 (Dense)                 (None, 8)            136         input_3[0][0]                    \n",
      "__________________________________________________________________________________________________\n",
      "dense_5 (Dense)                 (None, 8)            264         input_4[0][0]                    \n",
      "__________________________________________________________________________________________________\n",
      "add_2 (Add)                     (None, 8)            0           dense_4[0][0]                    \n",
      "                                                                 dense_5[0][0]                    \n",
      "__________________________________________________________________________________________________\n",
      "dense_6 (Dense)                 (None, 4)            36          add_2[0][0]                      \n",
      "==================================================================================================\n",
      "Total params: 436\n",
      "Trainable params: 436\n",
      "Non-trainable params: 0\n",
      "__________________________________________________________________________________________________\n"
     ]
    }
   ],
   "source": [
    "from keras.layers import Input, Dense, Add\n",
    "from keras.models import Model\n",
    "\n",
    "input1 = Input(shape=(16,))\n",
    "x1 = Dense(8, activation='relu')(input1)\n",
    "input2 = Input(shape=(32,))\n",
    "x2 = Dense(8, activation='relu')(input2)\n",
    "\n",
    "added = Add()([x1, x2])\n",
    "\n",
    "out = Dense(4)(added)\n",
    "model = Model(inputs=[input1, input2], outputs=out)\n",
    "\n",
    "model.summary()"
   ]
  },
  {
   "cell_type": "code",
   "execution_count": 17,
   "metadata": {},
   "outputs": [
    {
     "ename": "AttributeError",
     "evalue": "'Node' object has no attribute 'output_masks'",
     "output_type": "error",
     "traceback": [
      "\u001b[0;31m---------------------------------------------------------------------------\u001b[0m",
      "\u001b[0;31mAttributeError\u001b[0m                            Traceback (most recent call last)",
      "\u001b[0;32m<ipython-input-17-37f22cfd7764>\u001b[0m in \u001b[0;36m<module>\u001b[0;34m\u001b[0m\n\u001b[1;32m     70\u001b[0m     \u001b[0;32mreturn\u001b[0m \u001b[0mmodel\u001b[0m\u001b[0;34m\u001b[0m\u001b[0;34m\u001b[0m\u001b[0m\n\u001b[1;32m     71\u001b[0m \u001b[0;34m\u001b[0m\u001b[0m\n\u001b[0;32m---> 72\u001b[0;31m \u001b[0mmodel\u001b[0m \u001b[0;34m=\u001b[0m \u001b[0mcreate_res_net\u001b[0m\u001b[0;34m(\u001b[0m\u001b[0;34m)\u001b[0m\u001b[0;34m\u001b[0m\u001b[0;34m\u001b[0m\u001b[0m\n\u001b[0m\u001b[1;32m     73\u001b[0m \u001b[0;34m\u001b[0m\u001b[0m\n\u001b[1;32m     74\u001b[0m \u001b[0mmodel\u001b[0m\u001b[0;34m.\u001b[0m\u001b[0msummary\u001b[0m\u001b[0;34m(\u001b[0m\u001b[0;34m)\u001b[0m\u001b[0;34m\u001b[0m\u001b[0;34m\u001b[0m\u001b[0m\n",
      "\u001b[0;32m<ipython-input-17-37f22cfd7764>\u001b[0m in \u001b[0;36mcreate_res_net\u001b[0;34m()\u001b[0m\n\u001b[1;32m     35\u001b[0m     \u001b[0mnum_filters\u001b[0m \u001b[0;34m=\u001b[0m \u001b[0;36m256\u001b[0m\u001b[0;34m\u001b[0m\u001b[0;34m\u001b[0m\u001b[0m\n\u001b[1;32m     36\u001b[0m \u001b[0;34m\u001b[0m\u001b[0m\n\u001b[0;32m---> 37\u001b[0;31m     \u001b[0mt\u001b[0m \u001b[0;34m=\u001b[0m \u001b[0mDropout\u001b[0m\u001b[0;34m(\u001b[0m\u001b[0;36m0.25\u001b[0m\u001b[0;34m)\u001b[0m\u001b[0;34m(\u001b[0m\u001b[0minputs\u001b[0m\u001b[0;34m)\u001b[0m\u001b[0;34m\u001b[0m\u001b[0;34m\u001b[0m\u001b[0m\n\u001b[0m\u001b[1;32m     38\u001b[0m     \u001b[0mt\u001b[0m \u001b[0;34m=\u001b[0m \u001b[0mBatchNormalization\u001b[0m\u001b[0;34m(\u001b[0m\u001b[0;34m)\u001b[0m\u001b[0;34m(\u001b[0m\u001b[0minputs\u001b[0m\u001b[0;34m)\u001b[0m\u001b[0;34m\u001b[0m\u001b[0;34m\u001b[0m\u001b[0m\n\u001b[1;32m     39\u001b[0m     t = Conv2D(kernel_size=7,\n",
      "\u001b[0;32m~/anaconda3/envs/iaenv/lib/python3.7/site-packages/keras/backend/tensorflow_backend.py\u001b[0m in \u001b[0;36msymbolic_fn_wrapper\u001b[0;34m(*args, **kwargs)\u001b[0m\n\u001b[1;32m     73\u001b[0m         \u001b[0;32mif\u001b[0m \u001b[0m_SYMBOLIC_SCOPE\u001b[0m\u001b[0;34m.\u001b[0m\u001b[0mvalue\u001b[0m\u001b[0;34m:\u001b[0m\u001b[0;34m\u001b[0m\u001b[0;34m\u001b[0m\u001b[0m\n\u001b[1;32m     74\u001b[0m             \u001b[0;32mwith\u001b[0m \u001b[0mget_graph\u001b[0m\u001b[0;34m(\u001b[0m\u001b[0;34m)\u001b[0m\u001b[0;34m.\u001b[0m\u001b[0mas_default\u001b[0m\u001b[0;34m(\u001b[0m\u001b[0;34m)\u001b[0m\u001b[0;34m:\u001b[0m\u001b[0;34m\u001b[0m\u001b[0;34m\u001b[0m\u001b[0m\n\u001b[0;32m---> 75\u001b[0;31m                 \u001b[0;32mreturn\u001b[0m \u001b[0mfunc\u001b[0m\u001b[0;34m(\u001b[0m\u001b[0;34m*\u001b[0m\u001b[0margs\u001b[0m\u001b[0;34m,\u001b[0m \u001b[0;34m**\u001b[0m\u001b[0mkwargs\u001b[0m\u001b[0;34m)\u001b[0m\u001b[0;34m\u001b[0m\u001b[0;34m\u001b[0m\u001b[0m\n\u001b[0m\u001b[1;32m     76\u001b[0m         \u001b[0;32melse\u001b[0m\u001b[0;34m:\u001b[0m\u001b[0;34m\u001b[0m\u001b[0;34m\u001b[0m\u001b[0m\n\u001b[1;32m     77\u001b[0m             \u001b[0;32mreturn\u001b[0m \u001b[0mfunc\u001b[0m\u001b[0;34m(\u001b[0m\u001b[0;34m*\u001b[0m\u001b[0margs\u001b[0m\u001b[0;34m,\u001b[0m \u001b[0;34m**\u001b[0m\u001b[0mkwargs\u001b[0m\u001b[0;34m)\u001b[0m\u001b[0;34m\u001b[0m\u001b[0;34m\u001b[0m\u001b[0m\n",
      "\u001b[0;32m~/anaconda3/envs/iaenv/lib/python3.7/site-packages/keras/engine/base_layer.py\u001b[0m in \u001b[0;36m__call__\u001b[0;34m(self, inputs, **kwargs)\u001b[0m\n\u001b[1;32m    473\u001b[0m \u001b[0;34m\u001b[0m\u001b[0m\n\u001b[1;32m    474\u001b[0m             \u001b[0;31m# Handle mask propagation.\u001b[0m\u001b[0;34m\u001b[0m\u001b[0;34m\u001b[0m\u001b[0;34m\u001b[0m\u001b[0m\n\u001b[0;32m--> 475\u001b[0;31m             \u001b[0mprevious_mask\u001b[0m \u001b[0;34m=\u001b[0m \u001b[0m_collect_previous_mask\u001b[0m\u001b[0;34m(\u001b[0m\u001b[0minputs\u001b[0m\u001b[0;34m)\u001b[0m\u001b[0;34m\u001b[0m\u001b[0;34m\u001b[0m\u001b[0m\n\u001b[0m\u001b[1;32m    476\u001b[0m             \u001b[0muser_kwargs\u001b[0m \u001b[0;34m=\u001b[0m \u001b[0mkwargs\u001b[0m\u001b[0;34m.\u001b[0m\u001b[0mcopy\u001b[0m\u001b[0;34m(\u001b[0m\u001b[0;34m)\u001b[0m\u001b[0;34m\u001b[0m\u001b[0;34m\u001b[0m\u001b[0m\n\u001b[1;32m    477\u001b[0m             \u001b[0;32mif\u001b[0m \u001b[0;32mnot\u001b[0m \u001b[0mis_all_none\u001b[0m\u001b[0;34m(\u001b[0m\u001b[0mprevious_mask\u001b[0m\u001b[0;34m)\u001b[0m\u001b[0;34m:\u001b[0m\u001b[0;34m\u001b[0m\u001b[0;34m\u001b[0m\u001b[0m\n",
      "\u001b[0;32m~/anaconda3/envs/iaenv/lib/python3.7/site-packages/keras/engine/base_layer.py\u001b[0m in \u001b[0;36m_collect_previous_mask\u001b[0;34m(input_tensors)\u001b[0m\n\u001b[1;32m   1439\u001b[0m             \u001b[0minbound_layer\u001b[0m\u001b[0;34m,\u001b[0m \u001b[0mnode_index\u001b[0m\u001b[0;34m,\u001b[0m \u001b[0mtensor_index\u001b[0m \u001b[0;34m=\u001b[0m \u001b[0mx\u001b[0m\u001b[0;34m.\u001b[0m\u001b[0m_keras_history\u001b[0m\u001b[0;34m\u001b[0m\u001b[0;34m\u001b[0m\u001b[0m\n\u001b[1;32m   1440\u001b[0m             \u001b[0mnode\u001b[0m \u001b[0;34m=\u001b[0m \u001b[0minbound_layer\u001b[0m\u001b[0;34m.\u001b[0m\u001b[0m_inbound_nodes\u001b[0m\u001b[0;34m[\u001b[0m\u001b[0mnode_index\u001b[0m\u001b[0;34m]\u001b[0m\u001b[0;34m\u001b[0m\u001b[0;34m\u001b[0m\u001b[0m\n\u001b[0;32m-> 1441\u001b[0;31m             \u001b[0mmask\u001b[0m \u001b[0;34m=\u001b[0m \u001b[0mnode\u001b[0m\u001b[0;34m.\u001b[0m\u001b[0moutput_masks\u001b[0m\u001b[0;34m[\u001b[0m\u001b[0mtensor_index\u001b[0m\u001b[0;34m]\u001b[0m\u001b[0;34m\u001b[0m\u001b[0;34m\u001b[0m\u001b[0m\n\u001b[0m\u001b[1;32m   1442\u001b[0m             \u001b[0mmasks\u001b[0m\u001b[0;34m.\u001b[0m\u001b[0mappend\u001b[0m\u001b[0;34m(\u001b[0m\u001b[0mmask\u001b[0m\u001b[0;34m)\u001b[0m\u001b[0;34m\u001b[0m\u001b[0;34m\u001b[0m\u001b[0m\n\u001b[1;32m   1443\u001b[0m         \u001b[0;32melse\u001b[0m\u001b[0;34m:\u001b[0m\u001b[0;34m\u001b[0m\u001b[0;34m\u001b[0m\u001b[0m\n",
      "\u001b[0;31mAttributeError\u001b[0m: 'Node' object has no attribute 'output_masks'"
     ]
    }
   ],
   "source": []
  },
  {
   "cell_type": "code",
   "execution_count": 22,
   "metadata": {},
   "outputs": [
    {
     "name": "stdout",
     "output_type": "stream",
     "text": [
      "Model: \"sequential_1\"\n",
      "_________________________________________________________________\n",
      "Layer (type)                 Output Shape              Param #   \n",
      "=================================================================\n",
      "conv2d_1 (Conv2D)            (None, 124, 124, 32)      800       \n",
      "_________________________________________________________________\n",
      "batch_normalization_1 (Batch (None, 124, 124, 32)      128       \n",
      "_________________________________________________________________\n",
      "average_pooling2d_1 (Average (None, 31, 31, 32)        0         \n",
      "_________________________________________________________________\n",
      "conv2d_2 (Conv2D)            (None, 27, 27, 64)        51200     \n",
      "_________________________________________________________________\n",
      "batch_normalization_2 (Batch (None, 27, 27, 64)        256       \n",
      "_________________________________________________________________\n",
      "average_pooling2d_2 (Average (None, 6, 6, 64)          0         \n",
      "_________________________________________________________________\n",
      "dropout_1 (Dropout)          (None, 6, 6, 64)          0         \n",
      "_________________________________________________________________\n",
      "flatten_1 (Flatten)          (None, 2304)              0         \n",
      "_________________________________________________________________\n",
      "dense_1 (Dense)              (None, 128)               295040    \n",
      "_________________________________________________________________\n",
      "dropout_2 (Dropout)          (None, 128)               0         \n",
      "_________________________________________________________________\n",
      "dense_2 (Dense)              (None, 1)                 129       \n",
      "=================================================================\n",
      "Total params: 347,553\n",
      "Trainable params: 347,361\n",
      "Non-trainable params: 192\n",
      "_________________________________________________________________\n"
     ]
    }
   ],
   "source": [
    "tf.keras.backend.clear_session()\n",
    "\n",
    "REGU_L2 = 0.01\n",
    "\n",
    "X_train = X_train.reshape(X_train.shape[0], 128, 128, 1)\n",
    "X_val = X_val.reshape(X_val.shape[0], 128, 128, 1)\n",
    "\n",
    "input_shape = (128, 128, 1)\n",
    "#print('X_train.shape:', X_train.shape)\n",
    "\n",
    "model = Sequential()\n",
    "model.add(Conv2D(32, kernel_size=(5,5), activation='relu', use_bias=False, kernel_regularizer=l2(l=REGU_L2), input_shape=input_shape))\n",
    "model.add(BatchNormalization())\n",
    "#model.add(MaxPooling2D(pool_size=(4, 4)))\n",
    "model.add(AveragePooling2D(pool_size=(4, 4)))\n",
    "\n",
    "model.add(Conv2D(64, (5, 5), activation='relu',use_bias=False,kernel_regularizer=l2(l=REGU_L2)))\n",
    "model.add(BatchNormalization())\n",
    "#model.add(MaxPooling2D(pool_size=(4, 4)))\n",
    "model.add(AveragePooling2D(pool_size=(4, 4)))\n",
    "\n",
    "#model.add(Conv2D(64, (5, 5), activation='relu',use_bias=False,kernel_regularizer=l2(l=REGU_L2)))\n",
    "#model.add(BatchNormalization())\n",
    "#model.add(AveragePooling2D(pool_size=(4, 4)))\n",
    "\n",
    "model.add(Dropout(0.25))\n",
    "\n",
    "model.add(Flatten()) # Flattening the 2D arrays for fully connected layers\n",
    "model.add(Dense(128, activation='relu',kernel_regularizer=l2(l=REGU_L2)))\n",
    "\n",
    "model.add(Dropout(0.5))\n",
    "model.add(Dense(1,activation='sigmoid',kernel_regularizer=l2(l=REGU_L2)))\n",
    "\n",
    "\n",
    "#optimizer = Adam(lr=0.001,decay=0.0)\n",
    "optimizer = SGD(lr=0.001,momentum=0.9)\n",
    "\n",
    "model.compile(optimizer=optimizer,\n",
    "              #loss='sparse_categorical_crossentropy', \n",
    "              loss='binary_crossentropy', \n",
    "              metrics=['acc'])\n",
    "\n",
    "model.summary()"
   ]
  },
  {
   "cell_type": "code",
   "execution_count": 23,
   "metadata": {},
   "outputs": [
    {
     "name": "stdout",
     "output_type": "stream",
     "text": [
      "Train on 4000 samples, validate on 800 samples\n",
      "Epoch 1/15\n",
      "4000/4000 [==============================] - 36s 9ms/step - loss: 2.1046 - acc: 0.8190 - val_loss: 3.2958 - val_acc: 0.2887\n",
      "Epoch 2/15\n",
      "4000/4000 [==============================] - 36s 9ms/step - loss: 0.6515 - acc: 0.9678 - val_loss: 3.3153 - val_acc: 0.4613\n",
      "Epoch 3/15\n",
      "4000/4000 [==============================] - 36s 9ms/step - loss: 0.3709 - acc: 0.9668 - val_loss: 1.9739 - val_acc: 0.3850\n",
      "Epoch 4/15\n",
      "4000/4000 [==============================] - 36s 9ms/step - loss: 0.2997 - acc: 0.9818 - val_loss: 1.5894 - val_acc: 0.4787\n",
      "Epoch 5/15\n",
      "4000/4000 [==============================] - 36s 9ms/step - loss: 0.3154 - acc: 0.9620 - val_loss: 1.5699 - val_acc: 0.5025\n",
      "Epoch 6/15\n",
      "4000/4000 [==============================] - 36s 9ms/step - loss: 0.3150 - acc: 0.9735 - val_loss: 5.0293 - val_acc: 0.3487\n",
      "Epoch 7/15\n",
      "4000/4000 [==============================] - 36s 9ms/step - loss: 0.2488 - acc: 0.9830 - val_loss: 2.7414 - val_acc: 0.3938\n",
      "Epoch 8/15\n",
      "4000/4000 [==============================] - 36s 9ms/step - loss: 0.2847 - acc: 0.9672 - val_loss: 2.9539 - val_acc: 0.3575\n",
      "Epoch 9/15\n",
      "4000/4000 [==============================] - 36s 9ms/step - loss: 0.2668 - acc: 0.9845 - val_loss: 2.9436 - val_acc: 0.3925\n",
      "Epoch 10/15\n",
      "4000/4000 [==============================] - 36s 9ms/step - loss: 0.2261 - acc: 0.9843 - val_loss: 1.4755 - val_acc: 0.4750\n",
      "Epoch 11/15\n",
      "4000/4000 [==============================] - 36s 9ms/step - loss: 0.3073 - acc: 0.9668 - val_loss: 4.0109 - val_acc: 0.4137\n",
      "Epoch 12/15\n",
      "4000/4000 [==============================] - 36s 9ms/step - loss: 0.2654 - acc: 0.9785 - val_loss: 2.5719 - val_acc: 0.3663\n",
      "Epoch 13/15\n",
      "4000/4000 [==============================] - 36s 9ms/step - loss: 0.2733 - acc: 0.9800 - val_loss: 2.2450 - val_acc: 0.4175\n",
      "Epoch 14/15\n",
      "4000/4000 [==============================] - 36s 9ms/step - loss: 0.3429 - acc: 0.9675 - val_loss: 1.6206 - val_acc: 0.5350\n",
      "Epoch 15/15\n",
      "4000/4000 [==============================] - 36s 9ms/step - loss: 0.3131 - acc: 0.9775 - val_loss: 2.0107 - val_acc: 0.4087\n"
     ]
    }
   ],
   "source": [
    "BATCH_SIZE = 1\n",
    "EPOCHS = 15\n",
    "\n",
    "log = model.fit(x=X_train,y=y_train, batch_size=BATCH_SIZE, epochs=EPOCHS, validation_data=(X_val, y_val), verbose=1)"
   ]
  },
  {
   "cell_type": "code",
   "execution_count": 24,
   "metadata": {},
   "outputs": [
    {
     "data": {
      "text/plain": [
       "<matplotlib.legend.Legend at 0x7fa128addb50>"
      ]
     },
     "execution_count": 24,
     "metadata": {},
     "output_type": "execute_result"
    },
    {
     "data": {
      "image/png": "[encoded data removed]",
      "text/plain": [
       "<Figure size 432x288 with 1 Axes>"
      ]
     },
     "metadata": {
      "needs_background": "light"
     },
     "output_type": "display_data"
    }
   ],
   "source": [
    "import matplotlib.pyplot as plt\n",
    "%matplotlib inline\n",
    "\n",
    "plt.plot(log.history['loss'], label='train')\n",
    "plt.plot(log.history['val_loss'], label='validation')\n",
    "plt.scatter(range(0,len(log.history['val_loss'])), log.history['val_loss'], label='validation', color='red')\n",
    "plt.legend()"
   ]
  },
  {
   "cell_type": "code",
   "execution_count": null,
   "metadata": {},
   "outputs": [],
   "source": []
  }
 ],
 "metadata": {
  "kernelspec": {
   "display_name": "Python 3",
   "language": "python",
   "name": "python3"
  },
  "language_info": {
   "codemirror_mode": {
    "name": "ipython",
    "version": 3
   },
   "file_extension": ".py",
   "mimetype": "text/x-python",
   "name": "python",
   "nbconvert_exporter": "python",
   "pygments_lexer": "ipython3",
   "version": "3.7.5"
  }
 },
 "nbformat": 4,
 "nbformat_minor": 4
}
