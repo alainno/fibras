{
 "cells": [
  {
   "cell_type": "code",
   "execution_count": 2,
   "metadata": {
    "colab": {
     "base_uri": "https://localhost:8080/",
     "height": 224
    },
    "colab_type": "code",
    "id": "Yo9rD4rnvrKo",
    "outputId": "827e8d76-754f-4990-db47-c245a965fef3"
   },
   "outputs": [
    {
     "name": "stderr",
     "output_type": "stream",
     "text": [
      "/usr/local/lib/python3.6/dist-packages/skimage/util/dtype.py:131: UserWarning: Possible sign loss when converting negative image of type float64 to positive image of type bool.\n",
      "  .format(dtypeobj_in, dtypeobj_out))\n",
      "/usr/local/lib/python3.6/dist-packages/skimage/util/dtype.py:135: UserWarning: Possible precision loss when converting from float64 to bool\n",
      "  .format(dtypeobj_in, dtypeobj_out))\n"
     ]
    },
    {
     "data": {
      "text/plain": [
       "array([[ True,  True,  True, ..., False, False, False],\n",
       "       [False, False, False, ..., False, False, False],\n",
       "       [False, False, False, ..., False, False, False],\n",
       "       ...,\n",
       "       [ True,  True,  True, ..., False, False, False],\n",
       "       [ True,  True,  True, ..., False, False, False],\n",
       "       [ True,  True,  True, ..., False, False, False]])"
      ]
     },
     "execution_count": 2,
     "metadata": {
      "tags": []
     },
     "output_type": "execute_result"
    }
   ],
   "source": [
    "#scikit-image: libreria para el procesamiento de imágenes\n",
    "from skimage import img_as_bool, io, color, morphology\n",
    "\n",
    "################\n",
    "# Binarización #\n",
    "################\n",
    "image = img_as_bool(color.rgb2gray(io.imread('nanofibers.png')))\n",
    "image"
   ]
  },
  {
   "cell_type": "code",
   "execution_count": 3,
   "metadata": {
    "colab": {
     "base_uri": "https://localhost:8080/",
     "height": 136
    },
    "colab_type": "code",
    "id": "45xc4kKPwdoO",
    "outputId": "d7f14e4f-844e-4db6-b750-f5d2c269c36d"
   },
   "outputs": [
    {
     "data": {
      "text/plain": [
       "array([[ True,  True,  True, ..., False, False, False],\n",
       "       [False, False, False, ..., False, False, False],\n",
       "       [False, False, False, ..., False, False, False],\n",
       "       ...,\n",
       "       [False, False, False, ..., False, False, False],\n",
       "       [False, False, False, ..., False, False, False],\n",
       "       [ True,  True,  True, ..., False, False, False]])"
      ]
     },
     "execution_count": 3,
     "metadata": {
      "tags": []
     },
     "output_type": "execute_result"
    }
   ],
   "source": [
    "# Esqueletización y mapa de distancia\n",
    "skeleton, distance = morphology.medial_axis(image, mask=None, return_distance=True)\n",
    "skeleton"
   ]
  },
  {
   "cell_type": "code",
   "execution_count": 6,
   "metadata": {
    "colab": {
     "base_uri": "https://localhost:8080/",
     "height": 207
    },
    "colab_type": "code",
    "id": "ROVH5fIYwsQZ",
    "outputId": "da4c3405-1e85-48a9-c427-410a58d54d58"
   },
   "outputs": [
    {
     "data": {
      "image/png": "[encoded data removed]",
      "text/plain": [
       "<PIL.Image.Image image mode=L size=254x190 at 0x7F855A484940>"
      ]
     },
     "metadata": {
      "tags": []
     },
     "output_type": "display_data"
    }
   ],
   "source": [
    "# mostrando el esqueleto\n",
    "import numpy as np\n",
    "from google.colab.patches import cv2_imshow\n",
    "\n",
    "def cv2_imshow_bin(img):\n",
    "  cv2_imshow(np.where(img==True, 255, img))\n",
    "  \n",
    "cv2_imshow_bin(skeleton)"
   ]
  },
  {
   "cell_type": "code",
   "execution_count": 7,
   "metadata": {
    "colab": {
     "base_uri": "https://localhost:8080/",
     "height": 136
    },
    "colab_type": "code",
    "id": "6jp6ikRmxGAE",
    "outputId": "9ea8c858-e974-4a59-e4e7-b2935ab1f986"
   },
   "outputs": [
    {
     "data": {
      "text/plain": [
       "array([[ True,  True,  True, ..., False, False, False],\n",
       "       [False, False, False, ..., False, False, False],\n",
       "       [False, False, False, ..., False, False, False],\n",
       "       ...,\n",
       "       [False, False, False, ..., False, False, False],\n",
       "       [False, False, False, ..., False, False, False],\n",
       "       [False, False, False, ..., False, False, False]])"
      ]
     },
     "execution_count": 7,
     "metadata": {
      "tags": []
     },
     "output_type": "execute_result"
    }
   ],
   "source": [
    "############\n",
    "# Thinning #\n",
    "############\n",
    "thinned = morphology.thin(image)\n",
    "thinned"
   ]
  },
  {
   "cell_type": "code",
   "execution_count": 8,
   "metadata": {
    "colab": {
     "base_uri": "https://localhost:8080/",
     "height": 207
    },
    "colab_type": "code",
    "id": "qFttnhH-xORQ",
    "outputId": "a8185f07-f49b-44d8-e427-48ca03a0ea9c"
   },
   "outputs": [
    {
     "data": {
      "image/png": "[encoded data removed]",
      "text/plain": [
       "<PIL.Image.Image image mode=L size=254x190 at 0x7F855A484D30>"
      ]
     },
     "metadata": {
      "tags": []
     },
     "output_type": "display_data"
    }
   ],
   "source": [
    "# mostrando thinning\n",
    "cv2_imshow_bin(thinned)"
   ]
  },
  {
   "cell_type": "code",
   "execution_count": 10,
   "metadata": {
    "colab": {
     "base_uri": "https://localhost:8080/",
     "height": 224
    },
    "colab_type": "code",
    "id": "p21Hpgn_yqN9",
    "outputId": "872d63b9-2bc0-4dd5-8e4a-90253b6074e7"
   },
   "outputs": [
    {
     "name": "stdout",
     "output_type": "stream",
     "text": [
      "Collecting mahotas\n",
      "\u001b[?25l  Downloading https://files.pythonhosted.org/packages/c0/80/7e5919af7d1b93fc5e85fe5bd2ba68379cfb9add9f83cdff95b65ea7f46d/mahotas-1.4.7.tar.gz (1.5MB)\n",
      "\u001b[K     |████████████████████████████████| 1.5MB 4.8MB/s \n",
      "\u001b[?25hRequirement already satisfied: numpy in /usr/local/lib/python3.6/dist-packages (from mahotas) (1.16.4)\n",
      "Building wheels for collected packages: mahotas\n",
      "  Building wheel for mahotas (setup.py) ... \u001b[?25l\u001b[?25hdone\n",
      "  Created wheel for mahotas: filename=mahotas-1.4.7-cp36-cp36m-linux_x86_64.whl size=4262385 sha256=32f4609a98699326526e2917e7235d8c67734516a35bc1d35a001021d3c95950\n",
      "  Stored in directory: /root/.cache/pip/wheels/bb/0d/1e/c012eda7a9bb738a2fc531551681d680d31001abac3e14f3ed\n",
      "Successfully built mahotas\n",
      "Installing collected packages: mahotas\n",
      "Successfully installed mahotas-1.4.7\n"
     ]
    }
   ],
   "source": [
    "!pip install mahotas"
   ]
  },
  {
   "cell_type": "code",
   "execution_count": 11,
   "metadata": {
    "colab": {
     "base_uri": "https://localhost:8080/",
     "height": 136
    },
    "colab_type": "code",
    "id": "hAuKTLq9xVWV",
    "outputId": "88cbd6a6-ccec-4fae-d383-888b95748086"
   },
   "outputs": [
    {
     "data": {
      "text/plain": [
       "array([[ True,  True,  True, ..., False, False, False],\n",
       "       [False, False, False, ..., False, False, False],\n",
       "       [False, False, False, ..., False, False, False],\n",
       "       ...,\n",
       "       [False, False, False, ..., False, False, False],\n",
       "       [False, False, False, ..., False, False, False],\n",
       "       [ True,  True,  True, ..., False, False, False]])"
      ]
     },
     "execution_count": 11,
     "metadata": {
      "tags": []
     },
     "output_type": "execute_result"
    }
   ],
   "source": [
    "# Mahotas: Mahotas is a computer vision and image processing library for Python.\n",
    "import mahotas as mh\n",
    "\n",
    "############\n",
    "# Prunning #\n",
    "############\n",
    "\n",
    "def branchedPoints(skel):\n",
    "    branch1=np.array([[2, 1, 2], [1, 1, 1], [2, 2, 2]])\n",
    "    branch2=np.array([[1, 2, 1], [2, 1, 2], [1, 2, 1]])\n",
    "    branch3=np.array([[1, 2, 1], [2, 1, 2], [1, 2, 2]])\n",
    "    branch4=np.array([[2, 1, 2], [1, 1, 2], [2, 1, 2]])\n",
    "    branch5=np.array([[1, 2, 2], [2, 1, 2], [1, 2, 1]])\n",
    "    branch6=np.array([[2, 2, 2], [1, 1, 1], [2, 1, 2]])\n",
    "    branch7=np.array([[2, 2, 1], [2, 1, 2], [1, 2, 1]])\n",
    "    branch8=np.array([[2, 1, 2], [2, 1, 1], [2, 1, 2]])\n",
    "    branch9=np.array([[1, 2, 1], [2, 1, 2], [2, 2, 1]])\n",
    "    br1=mh.morph.hitmiss(skel,branch1)\n",
    "    br2=mh.morph.hitmiss(skel,branch2)\n",
    "    br3=mh.morph.hitmiss(skel,branch3)\n",
    "    br4=mh.morph.hitmiss(skel,branch4)\n",
    "    br5=mh.morph.hitmiss(skel,branch5)\n",
    "    br6=mh.morph.hitmiss(skel,branch6)\n",
    "    br7=mh.morph.hitmiss(skel,branch7)\n",
    "    br8=mh.morph.hitmiss(skel,branch8)\n",
    "    br9=mh.morph.hitmiss(skel,branch9)\n",
    "    return br1+br2+br3+br4+br5+br6+br7+br8+br9\n",
    "\n",
    "def endPoints(skel):\n",
    "    endpoint1=np.array([[0, 0, 0],\n",
    "                        [0, 1, 0],\n",
    "                        [2, 1, 2]])\n",
    "    \n",
    "    endpoint2=np.array([[0, 0, 0],\n",
    "                        [0, 1, 2],\n",
    "                        [0, 2, 1]])\n",
    "    \n",
    "    endpoint3=np.array([[0, 0, 2],\n",
    "                        [0, 1, 1],\n",
    "                        [0, 0, 2]])\n",
    "    \n",
    "    endpoint4=np.array([[0, 2, 1],\n",
    "                        [0, 1, 2],\n",
    "                        [0, 0, 0]])\n",
    "    \n",
    "    endpoint5=np.array([[2, 1, 2],\n",
    "                        [0, 1, 0],\n",
    "                        [0, 0, 0]])\n",
    "    \n",
    "    endpoint6=np.array([[1, 2, 0],\n",
    "                        [2, 1, 0],\n",
    "                        [0, 0, 0]])\n",
    "    \n",
    "    endpoint7=np.array([[2, 0, 0],\n",
    "                        [1, 1, 0],\n",
    "                        [2, 0, 0]])\n",
    "    \n",
    "    endpoint8=np.array([[0, 0, 0],\n",
    "                        [2, 1, 0],\n",
    "                        [1, 2, 0]])\n",
    "    \n",
    "    ep1=mh.morph.hitmiss(skel,endpoint1)\n",
    "    ep2=mh.morph.hitmiss(skel,endpoint2)\n",
    "    ep3=mh.morph.hitmiss(skel,endpoint3)\n",
    "    ep4=mh.morph.hitmiss(skel,endpoint4)\n",
    "    ep5=mh.morph.hitmiss(skel,endpoint5)\n",
    "    ep6=mh.morph.hitmiss(skel,endpoint6)\n",
    "    ep7=mh.morph.hitmiss(skel,endpoint7)\n",
    "    ep8=mh.morph.hitmiss(skel,endpoint8)\n",
    "    ep = ep1+ep2+ep3+ep4+ep5+ep6+ep7+ep8\n",
    "    return ep\n",
    "\n",
    "def pruning(skeleton, size):\n",
    "    '''remove iteratively end points \"size\" \n",
    "       times from the skeleton\n",
    "    '''\n",
    "    for i in range(0, size):\n",
    "        endpoints = endPoints(skeleton)\n",
    "        endpoints = np.logical_not(endpoints)\n",
    "        skeleton = np.logical_and(skeleton,endpoints)\n",
    "    return skeleton\n",
    "  \n",
    "prunned = pruning(skeleton,100)\n",
    "prunned\n"
   ]
  },
  {
   "cell_type": "code",
   "execution_count": 12,
   "metadata": {
    "colab": {
     "base_uri": "https://localhost:8080/",
     "height": 207
    },
    "colab_type": "code",
    "id": "XFYgJ6jSzCc7",
    "outputId": "e7653975-363b-4787-a132-fff12e9a493b"
   },
   "outputs": [
    {
     "data": {
      "image/png": "[encoded data removed]",
      "text/plain": [
       "<PIL.Image.Image image mode=L size=254x190 at 0x7F856DFB1860>"
      ]
     },
     "metadata": {
      "tags": []
     },
     "output_type": "display_data"
    }
   ],
   "source": [
    "cv2_imshow_bin(prunned)"
   ]
  },
  {
   "cell_type": "code",
   "execution_count": 22,
   "metadata": {
    "colab": {
     "base_uri": "https://localhost:8080/",
     "height": 136
    },
    "colab_type": "code",
    "id": "Xi89iEsPzIaj",
    "outputId": "6b8d2c94-e141-4dfc-d853-9d286a2e2bcd"
   },
   "outputs": [
    {
     "data": {
      "text/plain": [
       "array([[ True,  True,  True, ..., False, False, False],\n",
       "       [False, False, False, ..., False, False, False],\n",
       "       [False, False, False, ..., False, False, False],\n",
       "       ...,\n",
       "       [False, False, False, ..., False, False, False],\n",
       "       [False, False, False, ..., False, False, False],\n",
       "       [False, False, False, ..., False, False, False]])"
      ]
     },
     "execution_count": 22,
     "metadata": {
      "tags": []
     },
     "output_type": "execute_result"
    }
   ],
   "source": [
    "prunned2 = pruning(thinned,3)\n",
    "prunned2"
   ]
  },
  {
   "cell_type": "code",
   "execution_count": 23,
   "metadata": {
    "colab": {
     "base_uri": "https://localhost:8080/",
     "height": 207
    },
    "colab_type": "code",
    "id": "2hNQj5pdzLCk",
    "outputId": "79a508ac-9fab-4cc5-cbf0-1125367e7e44"
   },
   "outputs": [
    {
     "data": {
      "image/png": "[encoded data removed]",
      "text/plain": [
       "<PIL.Image.Image image mode=L size=254x190 at 0x7F855A498C18>"
      ]
     },
     "metadata": {
      "tags": []
     },
     "output_type": "display_data"
    }
   ],
   "source": [
    "cv2_imshow_bin(prunned2)"
   ]
  },
  {
   "cell_type": "code",
   "execution_count": 24,
   "metadata": {
    "colab": {
     "base_uri": "https://localhost:8080/",
     "height": 238
    },
    "colab_type": "code",
    "id": "RNIdrLx9ziAj",
    "outputId": "b6171029-3ba8-4365-8e0e-bbbba949458d"
   },
   "outputs": [
    {
     "data": {
      "text/plain": [
       "array([[1.        , 1.        , 1.        , ..., 0.        , 0.        ,\n",
       "        0.        ],\n",
       "       [0.        , 0.        , 0.        , ..., 0.        , 0.        ,\n",
       "        0.        ],\n",
       "       [0.        , 0.        , 0.        , ..., 0.        , 0.        ,\n",
       "        0.        ],\n",
       "       ...,\n",
       "       [5.        , 5.09901951, 5.38516481, ..., 0.        , 0.        ,\n",
       "        0.        ],\n",
       "       [6.        , 6.08276253, 6.32455532, ..., 0.        , 0.        ,\n",
       "        0.        ],\n",
       "       [7.        , 7.07106781, 7.28010989, ..., 0.        , 0.        ,\n",
       "        0.        ]])"
      ]
     },
     "execution_count": 24,
     "metadata": {
      "tags": []
     },
     "output_type": "execute_result"
    }
   ],
   "source": [
    "###############################\n",
    "# Transformación de distancia #\n",
    "###############################\n",
    "\n",
    "distance"
   ]
  },
  {
   "cell_type": "code",
   "execution_count": 26,
   "metadata": {
    "colab": {
     "base_uri": "https://localhost:8080/",
     "height": 207
    },
    "colab_type": "code",
    "id": "6ldfjt100mWk",
    "outputId": "2e10d9cf-4a38-4797-f06b-6f3008c379d4"
   },
   "outputs": [
    {
     "data": {
      "image/png": "[encoded data removed]",
      "text/plain": [
       "<PIL.Image.Image image mode=L size=254x190 at 0x7F855A44B4A8>"
      ]
     },
     "metadata": {
      "tags": []
     },
     "output_type": "display_data"
    }
   ],
   "source": [
    "# Open Source Computer Vision Library\n",
    "import cv2\n",
    "\n",
    "distanceMapNormalized = distance.copy()\n",
    "cv2.normalize(distance, distanceMapNormalized, 0, 255, cv2.NORM_MINMAX)\n",
    "cv2_imshow(distanceMapNormalized)"
   ]
  },
  {
   "cell_type": "code",
   "execution_count": 30,
   "metadata": {
    "colab": {
     "base_uri": "https://localhost:8080/",
     "height": 153
    },
    "colab_type": "code",
    "id": "ByvFAlao1Qc5",
    "outputId": "f348d1fb-f0d7-4e64-f5ad-9a048452fa01"
   },
   "outputs": [
    {
     "data": {
      "text/plain": [
       "[(132, 167),\n",
       " (62, 99),\n",
       " (103, 27),\n",
       " (195, 55),\n",
       " (55, 107),\n",
       " (46, 114),\n",
       " (212, 129),\n",
       " (209, 56)]"
      ]
     },
     "execution_count": 30,
     "metadata": {
      "tags": []
     },
     "output_type": "execute_result"
    }
   ],
   "source": [
    "# detección de intersecciones\n",
    "\n",
    "def neighbours(x,y,image):\n",
    "    \"\"\"Return 8-neighbours of image point P1(x,y), in a clockwise order\"\"\"\n",
    "    img = image\n",
    "    x_1, y_1, x1, y1 = x-1, y-1, x+1, y+1;\n",
    "    return [ img[x_1][y], img[x_1][y1], img[x][y1], img[x1][y1], img[x1][y], img[x1][y_1], img[x][y_1], img[x_1][y_1] ]\n",
    "  \n",
    "#out2,neighbours(0,0,out2)\n",
    "#out2[-1][1]\n",
    "#out2.shape, out2[190][0]\n",
    "\n",
    "def getSkeletonIntersection(skeleton):\n",
    "    \"\"\" Given a skeletonised image, it will give the coordinates of the intersections of the skeleton.\n",
    "    \n",
    "    Keyword arguments:\n",
    "    skeleton -- the skeletonised image to detect the intersections of\n",
    "    \n",
    "    Returns: \n",
    "    List of 2-tuples (x,y) containing the intersection coordinates\n",
    "    \"\"\"\n",
    "    # A biiiiiig list of valid intersections             2 3 4\n",
    "    # These are in the format shown to the right         1 C 5\n",
    "    #                                                    8 7 6 \n",
    "    validIntersection = [[0,1,0,1,0,0,1,0],[0,0,1,0,1,0,0,1],[1,0,0,1,0,1,0,0],\n",
    "                         [0,1,0,0,1,0,1,0],[0,0,1,0,0,1,0,1],[1,0,0,1,0,0,1,0],\n",
    "                         [0,1,0,0,1,0,0,1],[1,0,1,0,0,1,0,0],[0,1,0,0,0,1,0,1],\n",
    "                         [0,1,0,1,0,0,0,1],[0,1,0,1,0,1,0,0],[0,0,0,1,0,1,0,1],\n",
    "                         [1,0,1,0,0,0,1,0],[1,0,1,0,1,0,0,0],[0,0,1,0,1,0,1,0],\n",
    "                         [1,0,0,0,1,0,1,0],[1,0,0,1,1,1,0,0],[0,0,1,0,0,1,1,1],\n",
    "                         [1,1,0,0,1,0,0,1],[0,1,1,1,0,0,1,0],[1,0,1,1,0,0,1,0],\n",
    "                         [1,0,1,0,0,1,1,0],[1,0,1,1,0,1,1,0],[0,1,1,0,1,0,1,1],\n",
    "                         [1,1,0,1,1,0,1,0],[1,1,0,0,1,0,1,0],[0,1,1,0,1,0,1,0],\n",
    "                         [0,0,1,0,1,0,1,1],[1,0,0,1,1,0,1,0],[1,0,1,0,1,1,0,1],\n",
    "                         [1,0,1,0,1,1,0,0],[1,0,1,0,1,0,0,1],[0,1,0,0,1,0,1,1],\n",
    "                         [0,1,1,0,1,0,0,1],[1,1,0,1,0,0,1,0],[0,1,0,1,1,0,1,0],\n",
    "                         [0,0,1,0,1,1,0,1],[1,0,1,0,0,1,0,1],[1,0,0,1,0,1,1,0],\n",
    "                         [1,0,1,1,0,1,0,0]];\n",
    "    image = skeleton.copy();\n",
    "    #image = image/255;\n",
    "    intersections = list();\n",
    "    for x in range(1,len(image)-1):\n",
    "        for y in range(1,len(image[x])-1):\n",
    "            # If we have a white pixel\n",
    "            if image[x][y] == 1:\n",
    "                neighbours1 = neighbours(x,y,image);\n",
    "                valid = True;\n",
    "                if neighbours1 in validIntersection:\n",
    "                    intersections.append((y,x));\n",
    "    # Filter intersections to make sure we don't count them twice or ones that are very close together\n",
    "    for point1 in intersections:\n",
    "        for point2 in intersections:\n",
    "            if (((point1[0] - point2[0])**2 + (point1[1] - point2[1])**2) < 10**2) and (point1 != point2):\n",
    "                intersections.remove(point2);\n",
    "    # Remove duplicates\n",
    "    intersections = list(set(intersections));\n",
    "    return intersections;\n",
    "  \n",
    "intersecciones = getSkeletonIntersection(prunned2)\n",
    "intersecciones  "
   ]
  },
  {
   "cell_type": "code",
   "execution_count": 31,
   "metadata": {
    "colab": {
     "base_uri": "https://localhost:8080/",
     "height": 207
    },
    "colab_type": "code",
    "id": "hdeYLU7P1Zvj",
    "outputId": "44cf911d-824a-4909-824c-8587d6b70cfc"
   },
   "outputs": [
    {
     "data": {
      "image/png": "[encoded data removed]",
      "text/plain": [
       "<PIL.Image.Image image mode=RGB size=254x190 at 0x7F855A469358>"
      ]
     },
     "metadata": {
      "tags": []
     },
     "output_type": "display_data"
    }
   ],
   "source": [
    "# mostrando las intersecciones\n",
    "\n",
    "RGB = np.zeros((prunned2.shape[0],prunned2.shape[1],3), dtype=np.uint8)\n",
    "RGB[prunned2]  = [255,255,255]\n",
    "RGB[~prunned2] = [0,0,0]\n",
    "\n",
    "#cv2_imshow(RGB)\n",
    "#RGB.shape\n",
    "#RGB[0,0]\n",
    "\n",
    "for cross in intersecciones:\n",
    "  #thinnedInter[cross[1]][cross[0]] = False\n",
    "  x = cross[1]\n",
    "  y = cross[0]\n",
    "  x_1, y_1, x1, y1 = x-1, y-1, x+1, y+1; \n",
    "  #vecinos = neighbours(cross[1],cross[0],thinned)\n",
    "  #print(vecinos)\n",
    "  RGB[x,y] = [0,0,255]\n",
    "  RGB[x_1,y] = [0,0,255]\n",
    "  RGB[x_1,y1] = [0,0,255]\n",
    "  RGB[x][y1] = [0,0,255]\n",
    "  RGB[x1][y1] = [0,0,255]\n",
    "  RGB[x1][y] = [0,0,255]\n",
    "  RGB[x1][y_1] = [0,0,255]\n",
    "  RGB[x][y_1] = [0,0,255]\n",
    "  RGB[x_1][y_1] = [0,0,255]\n",
    "  \n",
    "cv2_imshow(RGB)"
   ]
  },
  {
   "cell_type": "code",
   "execution_count": 32,
   "metadata": {
    "colab": {
     "base_uri": "https://localhost:8080/",
     "height": 207
    },
    "colab_type": "code",
    "id": "ULAC8GgO1sE9",
    "outputId": "b977eab2-4a2d-499d-8fde-8b1a5b469143"
   },
   "outputs": [
    {
     "data": {
      "image/png": "[encoded data removed]",
      "text/plain": [
       "<PIL.Image.Image image mode=L size=254x190 at 0x7F856DFB1358>"
      ]
     },
     "metadata": {
      "tags": []
     },
     "output_type": "display_data"
    }
   ],
   "source": [
    "# ancho de intersecciones\n",
    "\n",
    "def removeCross(cross, distanceMap, thinned):\n",
    "\n",
    "  width = distanceMap[cross[1]][cross[0]]\n",
    "\n",
    "  width = width.astype('uint8')\n",
    "\n",
    "  for x in range(0,width*2+1):\n",
    "    for y in range(0,width*2+1):\n",
    "      #print(x - width, y - width)\n",
    "\n",
    "      i = cross[1] - width + x\n",
    "      j = cross[0] - width + y\n",
    "\n",
    "      thinned[i][j] = False\n",
    "      \n",
    "  return thinned \n",
    "\n",
    "#cross = intersecciones[0]\n",
    "\n",
    "uncrossed = prunned2.copy()\n",
    "\n",
    "for cross in intersecciones:\n",
    "  uncrossed = removeCross(cross, distance, uncrossed)\n",
    "    \n",
    "cv2_imshow(np.where(uncrossed==True, 255, uncrossed))"
   ]
  },
  {
   "cell_type": "code",
   "execution_count": 34,
   "metadata": {
    "colab": {
     "base_uri": "https://localhost:8080/",
     "height": 34
    },
    "colab_type": "code",
    "id": "McYeA9pq1ytx",
    "outputId": "72dae12b-6539-431c-9587-6cadc530f4b8"
   },
   "outputs": [
    {
     "data": {
      "text/plain": [
       "{2: 28, 4: 102, 6: 79, 8: 190, 10: 258, 12: 131, 14: 190}"
      ]
     },
     "execution_count": 34,
     "metadata": {
      "tags": []
     },
     "output_type": "execute_result"
    }
   ],
   "source": [
    "# conteo de pixeles\n",
    "\n",
    "rows,cols = uncrossed.shape\n",
    "\n",
    "diameters = dict()\n",
    "\n",
    "for x in range(0, rows):\n",
    "    for y in range(0, cols):\n",
    "      #print(uncrossed[x][y])\n",
    "      if(uncrossed[x,y]):\n",
    "        # obtener ancho\n",
    "        #print(distanceMap[x,y].astype('uint8')*2)\n",
    "        diameter = distance[x,y].astype('uint8')*2\n",
    "        \n",
    "        if(diameter in diameters):\n",
    "          diameters[diameter]+=1\n",
    "        else:\n",
    "          diameters[diameter]=1\n",
    "        #else:\n",
    "        #  diameters[diameter] += 1\n",
    "        #print(diameter)\n",
    "        \n",
    "        \n",
    "diameters"
   ]
  },
  {
   "cell_type": "code",
   "execution_count": 35,
   "metadata": {
    "colab": {
     "base_uri": "https://localhost:8080/",
     "height": 283
    },
    "colab_type": "code",
    "id": "VDh4ibjJ15hD",
    "outputId": "4c101a63-ce84-44ae-b9f2-5d95c5602ed5"
   },
   "outputs": [
    {
     "data": {
      "image/png": "[encoded data removed]",
      "text/plain": [
       "<Figure size 432x288 with 1 Axes>"
      ]
     },
     "metadata": {
      "tags": []
     },
     "output_type": "display_data"
    }
   ],
   "source": [
    "#histograma del diametros en pxs\n",
    "\n",
    "import matplotlib.pyplot as plt\n",
    "\n",
    "plt.bar(list(diameters.keys()), diameters.values())\n",
    "plt.ylabel('Frecuencia')\n",
    "plt.xlabel('Diámetros')\n",
    "plt.show()"
   ]
  }
 ],
 "metadata": {
  "colab": {
   "name": "diametro.ipynb",
   "provenance": [],
   "version": "0.3.2"
  },
  "kernelspec": {
   "display_name": "Python 3",
   "language": "python",
   "name": "python3"
  },
  "language_info": {
   "codemirror_mode": {
    "name": "ipython",
    "version": 3
   },
   "file_extension": ".py",
   "mimetype": "text/x-python",
   "name": "python",
   "nbconvert_exporter": "python",
   "pygments_lexer": "ipython3",
   "version": "3.7.5"
  }
 },
 "nbformat": 4,
 "nbformat_minor": 4
}
