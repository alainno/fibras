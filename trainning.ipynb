{
 "cells": [
  {
   "cell_type": "code",
   "execution_count": 1,
   "metadata": {},
   "outputs": [],
   "source": [
    "import os\n",
    "# use CPU\n",
    "os.environ[\"CUDA_DEVICE_ORDER\"] = \"PCI_BUS_ID\"   # see issue #152\n",
    "os.environ[\"CUDA_VISIBLE_DEVICES\"] = \"\"\n",
    "# use GPU 0,1\n",
    "#os.environ[\"CUDA_VISIBLE_DEVICES\"]=\"0\""
   ]
  },
  {
   "cell_type": "code",
   "execution_count": 2,
   "metadata": {
    "pycharm": {
     "is_executing": false
    }
   },
   "outputs": [
    {
     "name": "stderr",
     "output_type": "stream",
     "text": [
      "Using TensorFlow backend.\n",
      "/home/aalejo/anaconda3/envs/dl/lib/python3.7/site-packages/tensorflow/python/framework/dtypes.py:516: FutureWarning: Passing (type, 1) or '1type' as a synonym of type is deprecated; in a future version of numpy, it will be understood as (type, (1,)) / '(1,)type'.\n",
      "  _np_qint8 = np.dtype([(\"qint8\", np.int8, 1)])\n",
      "/home/aalejo/anaconda3/envs/dl/lib/python3.7/site-packages/tensorflow/python/framework/dtypes.py:517: FutureWarning: Passing (type, 1) or '1type' as a synonym of type is deprecated; in a future version of numpy, it will be understood as (type, (1,)) / '(1,)type'.\n",
      "  _np_quint8 = np.dtype([(\"quint8\", np.uint8, 1)])\n",
      "/home/aalejo/anaconda3/envs/dl/lib/python3.7/site-packages/tensorflow/python/framework/dtypes.py:518: FutureWarning: Passing (type, 1) or '1type' as a synonym of type is deprecated; in a future version of numpy, it will be understood as (type, (1,)) / '(1,)type'.\n",
      "  _np_qint16 = np.dtype([(\"qint16\", np.int16, 1)])\n",
      "/home/aalejo/anaconda3/envs/dl/lib/python3.7/site-packages/tensorflow/python/framework/dtypes.py:519: FutureWarning: Passing (type, 1) or '1type' as a synonym of type is deprecated; in a future version of numpy, it will be understood as (type, (1,)) / '(1,)type'.\n",
      "  _np_quint16 = np.dtype([(\"quint16\", np.uint16, 1)])\n",
      "/home/aalejo/anaconda3/envs/dl/lib/python3.7/site-packages/tensorflow/python/framework/dtypes.py:520: FutureWarning: Passing (type, 1) or '1type' as a synonym of type is deprecated; in a future version of numpy, it will be understood as (type, (1,)) / '(1,)type'.\n",
      "  _np_qint32 = np.dtype([(\"qint32\", np.int32, 1)])\n",
      "/home/aalejo/anaconda3/envs/dl/lib/python3.7/site-packages/tensorflow/python/framework/dtypes.py:525: FutureWarning: Passing (type, 1) or '1type' as a synonym of type is deprecated; in a future version of numpy, it will be understood as (type, (1,)) / '(1,)type'.\n",
      "  np_resource = np.dtype([(\"resource\", np.ubyte, 1)])\n",
      "/home/aalejo/anaconda3/envs/dl/lib/python3.7/site-packages/tensorboard/compat/tensorflow_stub/dtypes.py:541: FutureWarning: Passing (type, 1) or '1type' as a synonym of type is deprecated; in a future version of numpy, it will be understood as (type, (1,)) / '(1,)type'.\n",
      "  _np_qint8 = np.dtype([(\"qint8\", np.int8, 1)])\n",
      "/home/aalejo/anaconda3/envs/dl/lib/python3.7/site-packages/tensorboard/compat/tensorflow_stub/dtypes.py:542: FutureWarning: Passing (type, 1) or '1type' as a synonym of type is deprecated; in a future version of numpy, it will be understood as (type, (1,)) / '(1,)type'.\n",
      "  _np_quint8 = np.dtype([(\"quint8\", np.uint8, 1)])\n",
      "/home/aalejo/anaconda3/envs/dl/lib/python3.7/site-packages/tensorboard/compat/tensorflow_stub/dtypes.py:543: FutureWarning: Passing (type, 1) or '1type' as a synonym of type is deprecated; in a future version of numpy, it will be understood as (type, (1,)) / '(1,)type'.\n",
      "  _np_qint16 = np.dtype([(\"qint16\", np.int16, 1)])\n",
      "/home/aalejo/anaconda3/envs/dl/lib/python3.7/site-packages/tensorboard/compat/tensorflow_stub/dtypes.py:544: FutureWarning: Passing (type, 1) or '1type' as a synonym of type is deprecated; in a future version of numpy, it will be understood as (type, (1,)) / '(1,)type'.\n",
      "  _np_quint16 = np.dtype([(\"quint16\", np.uint16, 1)])\n",
      "/home/aalejo/anaconda3/envs/dl/lib/python3.7/site-packages/tensorboard/compat/tensorflow_stub/dtypes.py:545: FutureWarning: Passing (type, 1) or '1type' as a synonym of type is deprecated; in a future version of numpy, it will be understood as (type, (1,)) / '(1,)type'.\n",
      "  _np_qint32 = np.dtype([(\"qint32\", np.int32, 1)])\n",
      "/home/aalejo/anaconda3/envs/dl/lib/python3.7/site-packages/tensorboard/compat/tensorflow_stub/dtypes.py:550: FutureWarning: Passing (type, 1) or '1type' as a synonym of type is deprecated; in a future version of numpy, it will be understood as (type, (1,)) / '(1,)type'.\n",
      "  np_resource = np.dtype([(\"resource\", np.ubyte, 1)])\n",
      "/home/aalejo/anaconda3/envs/dl/lib/python3.7/site-packages/skimage/util/dtype.py:131: UserWarning: Possible sign loss when converting negative image of type float64 to positive image of type bool.\n",
      "  .format(dtypeobj_in, dtypeobj_out))\n",
      "/home/aalejo/anaconda3/envs/dl/lib/python3.7/site-packages/skimage/util/dtype.py:135: UserWarning: Possible precision loss when converting from float64 to bool\n",
      "  .format(dtypeobj_in, dtypeobj_out))\n"
     ]
    },
    {
     "name": "stdout",
     "output_type": "stream",
     "text": [
      "X_train.shape =  (2000, 256, 256)\n",
      "y_train.shape =  (2000,)\n",
      "X_val.shape =  (400, 256, 256)\n",
      "y_val.shape =  (400,)\n"
     ]
    }
   ],
   "source": [
    "from keras.preprocessing.image import ImageDataGenerator, array_to_img, img_to_array, load_img\n",
    "import os\n",
    "import resource\n",
    "import numpy as np\n",
    "from skimage import img_as_bool, io, color\n",
    "\n",
    "soft, hard = resource.getrlimit(resource.RLIMIT_NOFILE)\n",
    "resource.setrlimit(resource.RLIMIT_NOFILE, (hard, hard))\n",
    "\n",
    "thickTrainDir = \"data/train/thick/\"\n",
    "thinTrainDir = \"data/train/thin/\"\n",
    "thickValDir = \"data/validation/thick/\"\n",
    "thinValDir = \"data/validation/thin/\"\n",
    "\n",
    "X_train = []\n",
    "y_train = []\n",
    "X_val = []\n",
    "y_val = []\n",
    "\n",
    "#thickImgs = os.listdir(thickTrainDir)\n",
    "#for thickImg in thickImgs:\n",
    "#    imgPath = thickTrainDir + thickImg\n",
    "#    if not os.path.isdir(imgPath) :\n",
    "#        x = load_img(imgPath)\n",
    "#        x = img_as_bool(color.rgb2gray(io.imread(imgPath)))\n",
    "#        x_train.append(x)\n",
    "\n",
    "#x_train = np.array(x_train)\n",
    "\n",
    "# se agregan las imágenes y sus etiquetas a las listas en entrenamiento y validacion\n",
    "def appendImgs(imglist, labels, directory):\n",
    "    imgs = os.listdir(directory)\n",
    "    for img in imgs:\n",
    "        imgPath = directory + img\n",
    "        if not os.path.isdir(imgPath) :\n",
    "            x = load_img(imgPath)\n",
    "            x = img_as_bool(color.rgb2gray(io.imread(imgPath)))\n",
    "            imglist.append(x)\n",
    "            if 'thick' in imgPath:\n",
    "                labels.append(1)\n",
    "            elif 'thin' in imgPath:\n",
    "                labels.append(0)\n",
    "\n",
    "appendImgs(X_train, y_train, thickTrainDir)\n",
    "appendImgs(X_train, y_train, thinTrainDir)\n",
    "\n",
    "appendImgs(X_val, y_val, thickValDir)\n",
    "appendImgs(X_val, y_val, thinValDir)\n",
    "\n",
    "X_train = np.array(X_train)\n",
    "y_train = np.array(y_train)\n",
    "\n",
    "X_val = np.array(X_val)\n",
    "y_val = np.array(y_val)\n",
    "\n",
    "#X_train.shape\n",
    "\n",
    "print('X_train.shape = ', X_train.shape)\n",
    "print('y_train.shape = ', y_train.shape)\n",
    "\n",
    "print('X_val.shape = ', X_val.shape)\n",
    "print('y_val.shape = ', y_val.shape)\n",
    "\n",
    "\n",
    "#train_thick =   \n",
    "\n",
    "# create generator\n",
    "#datagen = ImageDataGenerator()"
   ]
  },
  {
   "cell_type": "code",
   "execution_count": 3,
   "metadata": {},
   "outputs": [
    {
     "data": {
      "text/plain": [
       "Text(0.5, 1.0, 'Fibra delgada (4px)')"
      ]
     },
     "execution_count": 3,
     "metadata": {},
     "output_type": "execute_result"
    },
    {
     "data": {
      "image/png": "[encoded data removed]",
      "text/plain": [
       "<Figure size 720x720 with 2 Axes>"
      ]
     },
     "metadata": {
      "needs_background": "light"
     },
     "output_type": "display_data"
    }
   ],
   "source": [
    "import matplotlib.pyplot as plt\n",
    "%matplotlib inline\n",
    "import random\n",
    "\n",
    "random_image_thick = random.randint(0, X_train.shape[0]/2-1)\n",
    "random_image_thin = random.randint(X_train.shape[0]/2,X_train.shape[0])\n",
    "\n",
    "#plt.imshow(X_train[random_image_thick],cmap='gray')\n",
    "#plt.show()\n",
    "#plt.imshow(X_train[random_image_thin],cmap='gray')\n",
    "\n",
    "\n",
    "fig, axs = plt.subplots(1, 2, figsize=(10,10))\n",
    "\n",
    "axs[0].imshow(X_train[random_image_thick],cmap='gray')\n",
    "axs[0].set_title(\"Fibra gruesa (12px)\")\n",
    "axs[1].imshow(X_train[random_image_thin],cmap='gray')\n",
    "axs[1].set_title(\"Fibra delgada (4px)\")\n",
    "\n"
   ]
  },
  {
   "cell_type": "code",
   "execution_count": null,
   "metadata": {
    "collapsed": true,
    "jupyter": {
     "outputs_hidden": true
    },
    "pycharm": {
     "is_executing": false
    }
   },
   "outputs": [],
   "source": [
    "#train_it = datagen.flow_from_directory('data/train/', class_mode='binary')\n",
    "#val_it = datagen.flow_from_directory('data/validation/', class_mode='binary')\n",
    "\n",
    "#train_it\n",
    "\n",
    "#import matplotlib.pyplot as plt\n",
    "\n",
    "#plt.imshow(train_it[0], cmap='gray', vmin=0, vmax=255)\n",
    "#plt.show()\n",
    "\n",
    "\n",
    "#batchX, batchy = train_it.next()\n",
    "#print('Batch shape=%s, min=%.3f, max=%.3f' % (batchX.shape, batchX.min(), batchX.max()))"
   ]
  },
  {
   "cell_type": "code",
   "execution_count": 4,
   "metadata": {
    "pycharm": {
     "is_executing": false
    }
   },
   "outputs": [
    {
     "name": "stdout",
     "output_type": "stream",
     "text": [
      "Model: \"sequential_1\"\n",
      "_________________________________________________________________\n",
      "Layer (type)                 Output Shape              Param #   \n",
      "=================================================================\n",
      "conv2d_1 (Conv2D)            (None, 254, 254, 128)     1280      \n",
      "_________________________________________________________________\n",
      "conv2d_2 (Conv2D)            (None, 252, 252, 64)      73792     \n",
      "_________________________________________________________________\n",
      "dropout_1 (Dropout)          (None, 252, 252, 64)      0         \n",
      "_________________________________________________________________\n",
      "flatten_1 (Flatten)          (None, 4064256)           0         \n",
      "_________________________________________________________________\n",
      "dense_1 (Dense)              (None, 128)               520224896 \n",
      "_________________________________________________________________\n",
      "dropout_2 (Dropout)          (None, 128)               0         \n",
      "_________________________________________________________________\n",
      "dense_2 (Dense)              (None, 2)                 258       \n",
      "=================================================================\n",
      "Total params: 520,300,226\n",
      "Trainable params: 520,300,226\n",
      "Non-trainable params: 0\n",
      "_________________________________________________________________\n"
     ]
    }
   ],
   "source": [
    "import keras\n",
    "from keras.layers import Dense, Flatten\n",
    "from keras.models import Sequential\n",
    "from keras.optimizers import SGD\n",
    "from keras.layers import Dense, Conv2D, Dropout, Flatten, MaxPooling2D\n",
    "import tensorflow as tf\n",
    "\n",
    "NUM_CLASSES = 2\n",
    "NUM_FILTERS = 128\n",
    "\n",
    "#bs = 32\n",
    "#epochs = 10\n",
    "#lr = 0.001\n",
    "\n",
    "#model = Sequential()\n",
    "#model.add(Flatten(input_shape=X_train[0].shape))\n",
    "#model.add(Dense(128, activation='relu'))\n",
    "#model.add(Dense(2, activation='softmax'))\n",
    "#model.compile(optimizer=SGD(lr), loss='sparse_categorical_crossentropy', metrics=['accuracy'])\n",
    "#model.summary()\n",
    "\n",
    "X_train = X_train.reshape(X_train.shape[0], 256, 256, 1)\n",
    "X_val = X_val.reshape(X_val.shape[0], 256, 256, 1)\n",
    "input_shape = (256, 256, 1)\n",
    "\n",
    "model = Sequential()\n",
    "model.add(Conv2D(NUM_FILTERS, kernel_size=(3,3), activation=tf.nn.relu, input_shape=input_shape))\n",
    "model.add(Conv2D(64, (3, 3), activation='relu'))\n",
    "#model.add(MaxPooling2D(pool_size=(8, 8)))\n",
    "model.add(Dropout(0.25))\n",
    "model.add(Flatten()) # Flattening the 2D arrays for fully connected layers\n",
    "model.add(Dense(128, activation=tf.nn.relu))\n",
    "#model.add(Dense(64, activation=tf.nn.relu))\n",
    "#model.add(Dense(32, activation=tf.nn.relu))\n",
    "model.add(Dropout(0.5))\n",
    "model.add(Dense(NUM_CLASSES,activation=tf.nn.softmax))\n",
    "\n",
    "model.compile(optimizer='adam', \n",
    "              loss='sparse_categorical_crossentropy', \n",
    "metrics=['accuracy'])\n",
    "\n",
    "model.summary()\n",
    "\n",
    "\n",
    "##model building\n",
    "#model = Sequential()\n",
    "#convolutional layer with rectified linear unit activation\n",
    "#model.add(Conv2D(32, kernel_size=(3, 3),\n",
    "                 #activation='relu',\n",
    "                 #input_shape=input_shape))\n",
    "#32 convolution filters used each of size 3x3\n",
    "#again\n",
    "#model.add(Conv2D(64, (3, 3), activation='relu'))\n",
    "#64 convolution filters used each of size 3x3\n",
    "#choose the best features via pooling\n",
    "#model.add(MaxPooling2D(pool_size=(2, 2)))\n",
    "#randomly turn neurons on and off to improve convergence\n",
    "#model.add(Dropout(0.25))\n",
    "#flatten since too many dimensions, we only want a classification output\n",
    "#model.add(Flatten())\n",
    "#fully connected to get all relevant data\n",
    "#model.add(Dense(128, activation='relu'))\n",
    "#one more dropout for convergence' sake :) \n",
    "#model.add(Dropout(0.5))\n",
    "#output a softmax to squash the matrix into output probabilities\n",
    "#model.add(Dense(num_category, activation='softmax'))"
   ]
  },
  {
   "cell_type": "code",
   "execution_count": null,
   "metadata": {
    "pycharm": {
     "is_executing": false
    }
   },
   "outputs": [
    {
     "name": "stdout",
     "output_type": "stream",
     "text": [
      "WARNING:tensorflow:From /home/aalejo/anaconda3/envs/dl/lib/python3.7/site-packages/keras/backend/tensorflow_backend.py:422: The name tf.global_variables is deprecated. Please use tf.compat.v1.global_variables instead.\n",
      "\n",
      "Train on 2000 samples, validate on 400 samples\n",
      "Epoch 1/20\n",
      " 864/2000 [===========>..................] - ETA: 2:50 - loss: 3.0806 - accuracy: 0.7975"
     ]
    }
   ],
   "source": [
    "#BATCH_SIZE = 128\n",
    "BATCH_SIZE = 32\n",
    "EPOCHS = 20\n",
    "# log = model.fit(X_train, y_train, batch_size=bs, epochs=epochs, validation_data=[X_val, y_val])\n",
    "#log = model.fit(x=X_train,y=y_train, batch_size=BATCH_SIZE, epochs=EPOCHS, validation_data=(X_val, y_val))\n",
    "log = model.fit(x=X_train,y=y_train, batch_size=BATCH_SIZE, epochs=EPOCHS, validation_data=(X_val, y_val), verbose=1)"
   ]
  },
  {
   "cell_type": "code",
   "execution_count": null,
   "metadata": {},
   "outputs": [],
   "source": [
    "plt.plot(log.history['loss'], label='train')\n",
    "plt.plot(log.history['val_loss'], label='validation')\n",
    "plt.legend()"
   ]
  },
  {
   "cell_type": "code",
   "execution_count": null,
   "metadata": {},
   "outputs": [],
   "source": [
    "score = model.evaluate(X_val, y_val, verbose=0)\n",
    "print('Test loss:', score[0])\n",
    "print('Test accuracy:', score[1])"
   ]
  },
  {
   "cell_type": "code",
   "execution_count": null,
   "metadata": {},
   "outputs": [],
   "source": [
    "img_width,img_height = 256,256\n",
    "#img = load_img('data/validation/thick/0001.png',False,target_size=(img_width,img_height))\n",
    "\n",
    "test_dir = \"data/test/\"\n",
    "\n",
    "test_imgs = os.listdir(test_dir)\n",
    "predicciones = []\n",
    "imagenes = []\n",
    "for img in test_imgs:\n",
    "    imgPath = test_dir + img\n",
    "    if not os.path.isdir(imgPath) :\n",
    "        imgBool = img_as_bool(color.rgb2gray(io.imread(imgPath)))\n",
    "        imagenes.append(imgBool)\n",
    "        \n",
    "        x = img_to_array(imgBool)\n",
    "        x = np.expand_dims(x, axis=0)\n",
    "        clases = model.predict_classes(x)\n",
    "        clase = None\n",
    "        if 1 in clases:\n",
    "            clase = \"Fibra gruesa\"\n",
    "        elif 0 in clases:\n",
    "            clase = \"Fibra delgada\"\n",
    "        predicciones.append(clase)\n",
    "        print(\"{img} es {clase}\")\n",
    "\n",
    "\n",
    "#img = img_as_bool(color.rgb2gray(io.imread('data/test/0001.png')))\n",
    "#x = img_to_array(img)\n",
    "#x = np.expand_dims(x, axis=0)\n",
    "#preds = model.predict_classes(x)\n",
    "#prob = model.predict_proba(x)\n",
    "#print(preds, prob)\n",
    "#preds"
   ]
  },
  {
   "cell_type": "code",
   "execution_count": 38,
   "metadata": {},
   "outputs": [
    {
     "data": {
      "text/plain": [
       "<matplotlib.image.AxesImage at 0x7fbac31a4090>"
      ]
     },
     "execution_count": 38,
     "metadata": {},
     "output_type": "execute_result"
    },
    {
     "data": {
      "image/png": "[encoded data removed]",
      "text/plain": [
       "<Figure size 432x288 with 1 Axes>"
      ]
     },
     "metadata": {
      "needs_background": "light"
     },
     "output_type": "display_data"
    }
   ],
   "source": [
    "img = img_as_bool(color.rgb2gray(io.imread('data/test/0001.png')))\n",
    "#x = img_to_array(img)\n",
    "x = np.array(img)\n",
    "plt.imshow(x)"
   ]
  }
 ],
 "metadata": {
  "kernelspec": {
   "display_name": "Python 3",
   "language": "python",
   "name": "python3"
  },
  "language_info": {
   "codemirror_mode": {
    "name": "ipython",
    "version": 3
   },
   "file_extension": ".py",
   "mimetype": "text/x-python",
   "name": "python",
   "nbconvert_exporter": "python",
   "pygments_lexer": "ipython3",
   "version": "3.7.4"
  }
 },
 "nbformat": 4,
 "nbformat_minor": 4
}
