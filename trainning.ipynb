{
 "cells": [
  {
   "cell_type": "code",
   "execution_count": 106,
   "metadata": {
    "pycharm": {
     "is_executing": false
    }
   },
   "outputs": [
    {
     "name": "stdout",
     "output_type": "stream",
     "text": [
      "X_train.shape =  (2000, 256, 256)\n",
      "y_train.shape =  (2000,)\n",
      "X_val.shape =  (400, 256, 256)\n",
      "y_val.shape =  (400,)\n"
     ]
    }
   ],
   "source": [
    "from keras.preprocessing.image import ImageDataGenerator, array_to_img, img_to_array, load_img\n",
    "import os\n",
    "import resource\n",
    "import numpy as np\n",
    "from skimage import img_as_bool, io, color\n",
    "\n",
    "soft, hard = resource.getrlimit(resource.RLIMIT_NOFILE)\n",
    "resource.setrlimit(resource.RLIMIT_NOFILE, (hard, hard))\n",
    "\n",
    "thickTrainDir = \"data/train/thick/\"\n",
    "thinTrainDir = \"data/train/thin/\"\n",
    "thickValDir = \"data/validation/thick/\"\n",
    "thinValDir = \"data/validation/thin/\"\n",
    "\n",
    "X_train = []\n",
    "y_train = []\n",
    "X_val = []\n",
    "y_val = []\n",
    "\n",
    "#thickImgs = os.listdir(thickTrainDir)\n",
    "#for thickImg in thickImgs:\n",
    "#    imgPath = thickTrainDir + thickImg\n",
    "#    if not os.path.isdir(imgPath) :\n",
    "#        x = load_img(imgPath)\n",
    "#        x = img_as_bool(color.rgb2gray(io.imread(imgPath)))\n",
    "#        x_train.append(x)\n",
    "\n",
    "#x_train = np.array(x_train)\n",
    "\n",
    "# se agregan las imágenes y sus etiquetas a las listas en entrenamiento y validacion\n",
    "def appendImgs(imglist, labels, directory):\n",
    "    imgs = os.listdir(directory)\n",
    "    for img in imgs:\n",
    "        imgPath = directory + img\n",
    "        if not os.path.isdir(imgPath) :\n",
    "            x = load_img(imgPath)\n",
    "            x = img_as_bool(color.rgb2gray(io.imread(imgPath)))\n",
    "            imglist.append(x)\n",
    "            if 'thick' in imgPath:\n",
    "                labels.append(1)\n",
    "            elif 'thin' in imgPath:\n",
    "                labels.append(0)\n",
    "\n",
    "appendImgs(X_train, y_train, thickTrainDir)\n",
    "appendImgs(X_train, y_train, thinTrainDir)\n",
    "\n",
    "appendImgs(X_val, y_val, thickValDir)\n",
    "appendImgs(X_val, y_val, thinValDir)\n",
    "\n",
    "X_train = np.array(X_train)\n",
    "y_train = np.array(y_train)\n",
    "\n",
    "X_val = np.array(X_val)\n",
    "y_val = np.array(y_val)\n",
    "\n",
    "#X_train.shape\n",
    "\n",
    "print('X_train.shape = ', X_train.shape)\n",
    "print('y_train.shape = ', y_train.shape)\n",
    "\n",
    "print('X_val.shape = ', X_val.shape)\n",
    "print('y_val.shape = ', y_val.shape)\n",
    "\n",
    "\n",
    "#train_thick =   \n",
    "\n",
    "# create generator\n",
    "#datagen = ImageDataGenerator()"
   ]
  },
  {
   "cell_type": "code",
   "execution_count": 120,
   "metadata": {},
   "outputs": [
    {
     "data": {
      "image/png": "[encoded data removed]",
      "text/plain": [
       "<Figure size 432x288 with 1 Axes>"
      ]
     },
     "metadata": {
      "needs_background": "light"
     },
     "output_type": "display_data"
    },
    {
     "data": {
      "text/plain": [
       "<matplotlib.image.AxesImage at 0x7eea7590f950>"
      ]
     },
     "execution_count": 120,
     "metadata": {},
     "output_type": "execute_result"
    },
    {
     "data": {
      "image/png": "[encoded data removed]",
      "text/plain": [
       "<Figure size 432x288 with 1 Axes>"
      ]
     },
     "metadata": {
      "needs_background": "light"
     },
     "output_type": "display_data"
    }
   ],
   "source": [
    "import matplotlib.pyplot as plt\n",
    "%matplotlib inline\n",
    "import random\n",
    "\n",
    "random_image_thick = random.randint(0, X_train.shape[0]/2-1)\n",
    "random_image_thin = random.randint(X_train.shape[0]/2,X_train.shape[0])\n",
    "\n",
    "plt.imshow(X_train[random_image_thick],cmap='gray')\n",
    "plt.show()\n",
    "plt.imshow(X_train[random_image_thin],cmap='gray')"
   ]
  },
  {
   "cell_type": "code",
   "execution_count": 4,
   "metadata": {
    "collapsed": true,
    "jupyter": {
     "outputs_hidden": true
    },
    "pycharm": {
     "is_executing": false
    }
   },
   "outputs": [
    {
     "ename": "NameError",
     "evalue": "name 'train_it' is not defined",
     "output_type": "error",
     "traceback": [
      "\u001b[0;31m---------------------------------------------------------------------------\u001b[0m",
      "\u001b[0;31mNameError\u001b[0m                                 Traceback (most recent call last)",
      "\u001b[0;32m<ipython-input-4-313346ac2d8d>\u001b[0m in \u001b[0;36m<module>\u001b[0;34m\u001b[0m\n\u001b[1;32m      2\u001b[0m \u001b[0;31m#val_it = datagen.flow_from_directory('data/validation/', class_mode='binary')\u001b[0m\u001b[0;34m\u001b[0m\u001b[0;34m\u001b[0m\u001b[0;34m\u001b[0m\u001b[0m\n\u001b[1;32m      3\u001b[0m \u001b[0;34m\u001b[0m\u001b[0m\n\u001b[0;32m----> 4\u001b[0;31m \u001b[0mtrain_it\u001b[0m\u001b[0;34m\u001b[0m\u001b[0;34m\u001b[0m\u001b[0m\n\u001b[0m\u001b[1;32m      5\u001b[0m \u001b[0;34m\u001b[0m\u001b[0m\n\u001b[1;32m      6\u001b[0m \u001b[0;31m#import matplotlib.pyplot as plt\u001b[0m\u001b[0;34m\u001b[0m\u001b[0;34m\u001b[0m\u001b[0;34m\u001b[0m\u001b[0m\n",
      "\u001b[0;31mNameError\u001b[0m: name 'train_it' is not defined"
     ]
    }
   ],
   "source": [
    "#train_it = datagen.flow_from_directory('data/train/', class_mode='binary')\n",
    "#val_it = datagen.flow_from_directory('data/validation/', class_mode='binary')\n",
    "\n",
    "#train_it\n",
    "\n",
    "#import matplotlib.pyplot as plt\n",
    "\n",
    "#plt.imshow(train_it[0], cmap='gray', vmin=0, vmax=255)\n",
    "#plt.show()\n",
    "\n",
    "\n",
    "#batchX, batchy = train_it.next()\n",
    "#print('Batch shape=%s, min=%.3f, max=%.3f' % (batchX.shape, batchX.min(), batchX.max()))"
   ]
  },
  {
   "cell_type": "code",
   "execution_count": 97,
   "metadata": {
    "pycharm": {
     "is_executing": false
    }
   },
   "outputs": [
    {
     "name": "stdout",
     "output_type": "stream",
     "text": [
      "Model: \"sequential_24\"\n",
      "_________________________________________________________________\n",
      "Layer (type)                 Output Shape              Param #   \n",
      "=================================================================\n",
      "conv2d_32 (Conv2D)           (None, 254, 254, 128)     1280      \n",
      "_________________________________________________________________\n",
      "conv2d_33 (Conv2D)           (None, 252, 252, 64)      73792     \n",
      "_________________________________________________________________\n",
      "dropout_19 (Dropout)         (None, 252, 252, 64)      0         \n",
      "_________________________________________________________________\n",
      "flatten_24 (Flatten)         (None, 4064256)           0         \n",
      "_________________________________________________________________\n",
      "dense_39 (Dense)             (None, 128)               520224896 \n",
      "_________________________________________________________________\n",
      "dropout_20 (Dropout)         (None, 128)               0         \n",
      "_________________________________________________________________\n",
      "dense_40 (Dense)             (None, 2)                 258       \n",
      "=================================================================\n",
      "Total params: 520,300,226\n",
      "Trainable params: 520,300,226\n",
      "Non-trainable params: 0\n",
      "_________________________________________________________________\n"
     ]
    }
   ],
   "source": [
    "import keras\n",
    "from keras.layers import Dense, Flatten\n",
    "from keras.models import Sequential\n",
    "from keras.optimizers import SGD\n",
    "from keras.layers import Dense, Conv2D, Dropout, Flatten, MaxPooling2D\n",
    "import tensorflow as tf\n",
    "\n",
    "NUM_CLASSES = 2\n",
    "NUM_FILTERS = 128\n",
    "\n",
    "#bs = 32\n",
    "#epochs = 10\n",
    "#lr = 0.001\n",
    "\n",
    "#model = Sequential()\n",
    "#model.add(Flatten(input_shape=X_train[0].shape))\n",
    "#model.add(Dense(128, activation='relu'))\n",
    "#model.add(Dense(2, activation='softmax'))\n",
    "#model.compile(optimizer=SGD(lr), loss='sparse_categorical_crossentropy', metrics=['accuracy'])\n",
    "#model.summary()\n",
    "\n",
    "X_train = X_train.reshape(X_train.shape[0], 256, 256, 1)\n",
    "X_val = X_val.reshape(X_val.shape[0], 256, 256, 1)\n",
    "input_shape = (256, 256, 1)\n",
    "\n",
    "model = Sequential()\n",
    "model.add(Conv2D(NUM_FILTERS, kernel_size=(3,3), activation=tf.nn.relu, input_shape=input_shape))\n",
    "model.add(Conv2D(64, (3, 3), activation='relu'))\n",
    "#model.add(MaxPooling2D(pool_size=(8, 8)))\n",
    "model.add(Dropout(0.25))\n",
    "model.add(Flatten()) # Flattening the 2D arrays for fully connected layers\n",
    "model.add(Dense(128, activation=tf.nn.relu))\n",
    "#model.add(Dense(64, activation=tf.nn.relu))\n",
    "#model.add(Dense(32, activation=tf.nn.relu))\n",
    "model.add(Dropout(0.5))\n",
    "model.add(Dense(NUM_CLASSES,activation=tf.nn.softmax))\n",
    "\n",
    "model.compile(optimizer='adam', \n",
    "              loss='sparse_categorical_crossentropy', \n",
    "metrics=['accuracy'])\n",
    "\n",
    "model.summary()\n",
    "\n",
    "\n",
    "##model building\n",
    "#model = Sequential()\n",
    "#convolutional layer with rectified linear unit activation\n",
    "#model.add(Conv2D(32, kernel_size=(3, 3),\n",
    "                 #activation='relu',\n",
    "                 #input_shape=input_shape))\n",
    "#32 convolution filters used each of size 3x3\n",
    "#again\n",
    "#model.add(Conv2D(64, (3, 3), activation='relu'))\n",
    "#64 convolution filters used each of size 3x3\n",
    "#choose the best features via pooling\n",
    "#model.add(MaxPooling2D(pool_size=(2, 2)))\n",
    "#randomly turn neurons on and off to improve convergence\n",
    "#model.add(Dropout(0.25))\n",
    "#flatten since too many dimensions, we only want a classification output\n",
    "#model.add(Flatten())\n",
    "#fully connected to get all relevant data\n",
    "#model.add(Dense(128, activation='relu'))\n",
    "#one more dropout for convergence' sake :) \n",
    "#model.add(Dropout(0.5))\n",
    "#output a softmax to squash the matrix into output probabilities\n",
    "#model.add(Dense(num_category, activation='softmax'))"
   ]
  },
  {
   "cell_type": "code",
   "execution_count": 98,
   "metadata": {
    "pycharm": {
     "is_executing": false
    }
   },
   "outputs": [
    {
     "name": "stdout",
     "output_type": "stream",
     "text": [
      "Train on 2000 samples, validate on 400 samples\n",
      "Epoch 1/20\n",
      "2000/2000 [==============================] - 189s 95ms/step - loss: 5.5292 - accuracy: 0.7065 - val_loss: 0.3492 - val_accuracy: 0.9775\n",
      "Epoch 2/20\n",
      "2000/2000 [==============================] - 187s 94ms/step - loss: 0.3381 - accuracy: 0.9865 - val_loss: 0.2679 - val_accuracy: 1.0000\n",
      "Epoch 3/20\n",
      "2000/2000 [==============================] - 187s 93ms/step - loss: 0.1848 - accuracy: 0.9985 - val_loss: 0.0028 - val_accuracy: 1.0000\n",
      "Epoch 4/20\n",
      "2000/2000 [==============================] - 187s 93ms/step - loss: 0.1599 - accuracy: 0.9985 - val_loss: 1.9356e-04 - val_accuracy: 1.0000\n",
      "Epoch 5/20\n",
      "2000/2000 [==============================] - 187s 93ms/step - loss: 0.1675 - accuracy: 0.9985 - val_loss: 2.8374e-04 - val_accuracy: 1.0000\n",
      "Epoch 6/20\n",
      "2000/2000 [==============================] - 187s 93ms/step - loss: 0.1569 - accuracy: 1.0000 - val_loss: 4.9388e-04 - val_accuracy: 1.0000\n",
      "Epoch 7/20\n",
      "2000/2000 [==============================] - 187s 93ms/step - loss: 0.1675 - accuracy: 0.9985 - val_loss: 6.1953e-04 - val_accuracy: 1.0000\n",
      "Epoch 8/20\n",
      "2000/2000 [==============================] - 187s 93ms/step - loss: 0.1529 - accuracy: 0.9995 - val_loss: 8.0796e-04 - val_accuracy: 1.0000\n",
      "Epoch 9/20\n",
      "2000/2000 [==============================] - 187s 93ms/step - loss: 0.1449 - accuracy: 1.0000 - val_loss: 8.6871e-04 - val_accuracy: 1.0000\n",
      "Epoch 10/20\n",
      "2000/2000 [==============================] - 187s 94ms/step - loss: 0.1556 - accuracy: 0.9995 - val_loss: 0.0011 - val_accuracy: 1.0000\n",
      "Epoch 11/20\n",
      "2000/2000 [==============================] - 187s 93ms/step - loss: 0.1453 - accuracy: 1.0000 - val_loss: 0.0012 - val_accuracy: 1.0000\n",
      "Epoch 12/20\n",
      "2000/2000 [==============================] - 187s 93ms/step - loss: 0.1467 - accuracy: 1.0000 - val_loss: 0.0012 - val_accuracy: 1.0000\n",
      "Epoch 13/20\n",
      "2000/2000 [==============================] - 187s 93ms/step - loss: 0.1410 - accuracy: 1.0000 - val_loss: 0.0012 - val_accuracy: 1.0000\n",
      "Epoch 14/20\n",
      "2000/2000 [==============================] - 188s 94ms/step - loss: 0.1394 - accuracy: 1.0000 - val_loss: 0.0012 - val_accuracy: 1.0000\n",
      "Epoch 15/20\n",
      "2000/2000 [==============================] - 187s 94ms/step - loss: 0.1376 - accuracy: 1.0000 - val_loss: 0.0011 - val_accuracy: 1.0000\n",
      "Epoch 16/20\n",
      "2000/2000 [==============================] - 186s 93ms/step - loss: 0.1335 - accuracy: 1.0000 - val_loss: 0.0011 - val_accuracy: 1.0000\n",
      "Epoch 17/20\n",
      "2000/2000 [==============================] - 187s 93ms/step - loss: 0.1314 - accuracy: 1.0000 - val_loss: 0.0011 - val_accuracy: 1.0000\n",
      "Epoch 18/20\n",
      "2000/2000 [==============================] - 187s 94ms/step - loss: 0.1259 - accuracy: 1.0000 - val_loss: 0.0012 - val_accuracy: 1.0000\n",
      "Epoch 19/20\n",
      "2000/2000 [==============================] - 187s 93ms/step - loss: 0.1392 - accuracy: 1.0000 - val_loss: 0.0013 - val_accuracy: 1.0000\n",
      "Epoch 20/20\n",
      "2000/2000 [==============================] - 187s 93ms/step - loss: 0.1252 - accuracy: 1.0000 - val_loss: 0.0013 - val_accuracy: 1.0000\n"
     ]
    }
   ],
   "source": [
    "BATCH_SIZE = 128\n",
    "EPOCHS = 20\n",
    "# log = model.fit(X_train, y_train, batch_size=bs, epochs=epochs, validation_data=[X_val, y_val])\n",
    "#log = model.fit(x=X_train,y=y_train, batch_size=BATCH_SIZE, epochs=EPOCHS, validation_data=(X_val, y_val))\n",
    "log = model.fit(x=X_train,y=y_train, batch_size=BATCH_SIZE, epochs=EPOCHS, validation_data=(X_val, y_val), verbose=1)"
   ]
  },
  {
   "cell_type": "code",
   "execution_count": 99,
   "metadata": {},
   "outputs": [
    {
     "data": {
      "text/plain": [
       "<matplotlib.legend.Legend at 0x7eea81c4b090>"
      ]
     },
     "execution_count": 99,
     "metadata": {},
     "output_type": "execute_result"
    },
    {
     "data": {
      "image/png": "[encoded data removed]",
      "text/plain": [
       "<Figure size 432x288 with 1 Axes>"
      ]
     },
     "metadata": {
      "needs_background": "light"
     },
     "output_type": "display_data"
    }
   ],
   "source": [
    "plt.plot(log.history['loss'], label='train')\n",
    "plt.plot(log.history['val_loss'], label='validation')\n",
    "plt.legend()"
   ]
  },
  {
   "cell_type": "code",
   "execution_count": 95,
   "metadata": {},
   "outputs": [
    {
     "name": "stdout",
     "output_type": "stream",
     "text": [
      "Test loss: 0.0\n",
      "Test accuracy: 1.0\n"
     ]
    }
   ],
   "source": [
    "score = model.evaluate(X_val, y_val, verbose=0)\n",
    "print('Test loss:', score[0])\n",
    "print('Test accuracy:', score[1])"
   ]
  },
  {
   "cell_type": "code",
   "execution_count": 148,
   "metadata": {},
   "outputs": [
    {
     "data": {
      "text/plain": [
       "array([0])"
      ]
     },
     "execution_count": 148,
     "metadata": {},
     "output_type": "execute_result"
    }
   ],
   "source": [
    "img_width,img_height = 256,256\n",
    "#img = load_img('data/validation/thick/0001.png',False,target_size=(img_width,img_height))\n",
    "img = img_as_bool(color.rgb2gray(io.imread('data/test/0001.png')))\n",
    "x = img_to_array(img)\n",
    "x = np.expand_dims(x, axis=0)\n",
    "preds = model.predict_classes(x)\n",
    "#prob = model.predict_proba(x)\n",
    "#print(preds, prob)\n",
    "preds"
   ]
  }
 ],
 "metadata": {
  "kernelspec": {
   "display_name": "Python 3",
   "language": "python",
   "name": "python3"
  },
  "language_info": {
   "codemirror_mode": {
    "name": "ipython",
    "version": 3
   },
   "file_extension": ".py",
   "mimetype": "text/x-python",
   "name": "python",
   "nbconvert_exporter": "python",
   "pygments_lexer": "ipython3",
   "version": "3.7.4"
  }
 },
 "nbformat": 4,
 "nbformat_minor": 4
}
