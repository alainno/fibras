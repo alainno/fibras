{
 "cells": [
  {
   "cell_type": "code",
   "execution_count": 1,
   "metadata": {
    "pycharm": {
     "is_executing": false
    }
   },
   "outputs": [
    {
     "name": "stderr",
     "output_type": "stream",
     "text": [
      "Using TensorFlow backend.\n",
      "/home/aalejo/.conda/envs/ia2/lib/python3.7/site-packages/skimage/util/dtype.py:131: UserWarning: Possible sign loss when converting negative image of type float64 to positive image of type bool.\n",
      "  .format(dtypeobj_in, dtypeobj_out))\n",
      "/home/aalejo/.conda/envs/ia2/lib/python3.7/site-packages/skimage/util/dtype.py:135: UserWarning: Possible precision loss when converting from float64 to bool\n",
      "  .format(dtypeobj_in, dtypeobj_out))\n"
     ]
    },
    {
     "data": {
      "text/plain": [
       "(2, 256, 256)"
      ]
     },
     "execution_count": 1,
     "metadata": {},
     "output_type": "execute_result"
    }
   ],
   "source": [
    "from keras.preprocessing.image import ImageDataGenerator, array_to_img, img_to_array, load_img\n",
    "import os\n",
    "import resource\n",
    "import numpy as np\n",
    "from skimage import img_as_bool, io, color\n",
    "\n",
    "soft, hard = resource.getrlimit(resource.RLIMIT_NOFILE)\n",
    "resource.setrlimit(resource.RLIMIT_NOFILE, (hard, hard))\n",
    "\n",
    "thickTrainDir = \"data/train/thick/\"\n",
    "thinTrainDir = \"data/train/thin/\"\n",
    "thickValDir = \"data/validation/thick/\"\n",
    "thinValDir = \"data/validation/thin/\"\n",
    "\n",
    "X_train = []\n",
    "y_train = []\n",
    "X_val = []\n",
    "y_val = []\n",
    "\n",
    "#thickImgs = os.listdir(thickTrainDir)\n",
    "#for thickImg in thickImgs:\n",
    "#    imgPath = thickTrainDir + thickImg\n",
    "#    if not os.path.isdir(imgPath) :\n",
    "#        x = load_img(imgPath)\n",
    "#        x = img_as_bool(color.rgb2gray(io.imread(imgPath)))\n",
    "#        x_train.append(x)\n",
    "\n",
    "#x_train = np.array(x_train)\n",
    "\n",
    "def appendImgs(imglist, labels, directory):\n",
    "    imgs = os.listdir(directory)\n",
    "    for img in imgs:\n",
    "        imgPath = directory + img\n",
    "        if not os.path.isdir(imgPath) :\n",
    "            x = load_img(imgPath)\n",
    "            x = img_as_bool(color.rgb2gray(io.imread(imgPath)))\n",
    "            imglist.append(x)\n",
    "            if 'thick' in imgPath:\n",
    "                labels.append(1)\n",
    "            elif 'thin' in imgPath:\n",
    "                labels.append(0)\n",
    "\n",
    "appendImgs(X_train, y_train, thickTrainDir)\n",
    "appendImgs(X_train, y_train, thinTrainDir)\n",
    "\n",
    "appendImgs(X_val, y_val, thickValDir)\n",
    "appendImgs(X_val, y_val, thinValDir)\n",
    "\n",
    "X_train = np.array(X_train)\n",
    "y_train = np.array(y_train)\n",
    "\n",
    "X_val = np.array(X_val)\n",
    "y_val = np.array(y_val)\n",
    "\n",
    "X_train.shape\n",
    "\n",
    "\n",
    "\n",
    "#train_thick =   \n",
    "\n",
    "# create generator\n",
    "#datagen = ImageDataGenerator()"
   ]
  },
  {
   "cell_type": "code",
   "execution_count": 3,
   "metadata": {},
   "outputs": [
    {
     "data": {
      "image/png": "[encoded data removed]",
      "text/plain": [
       "<Figure size 432x288 with 1 Axes>"
      ]
     },
     "metadata": {
      "needs_background": "light"
     },
     "output_type": "display_data"
    }
   ],
   "source": [
    "import matplotlib.pyplot as plt\n",
    "\n",
    "plt.imshow(X_train[-1])\n",
    "plt.show()"
   ]
  },
  {
   "cell_type": "code",
   "execution_count": 4,
   "metadata": {
    "pycharm": {
     "is_executing": false
    }
   },
   "outputs": [
    {
     "ename": "NameError",
     "evalue": "name 'train_it' is not defined",
     "output_type": "error",
     "traceback": [
      "\u001b[0;31m---------------------------------------------------------------------------\u001b[0m",
      "\u001b[0;31mNameError\u001b[0m                                 Traceback (most recent call last)",
      "\u001b[0;32m<ipython-input-4-313346ac2d8d>\u001b[0m in \u001b[0;36m<module>\u001b[0;34m\u001b[0m\n\u001b[1;32m      2\u001b[0m \u001b[0;31m#val_it = datagen.flow_from_directory('data/validation/', class_mode='binary')\u001b[0m\u001b[0;34m\u001b[0m\u001b[0;34m\u001b[0m\u001b[0;34m\u001b[0m\u001b[0m\n\u001b[1;32m      3\u001b[0m \u001b[0;34m\u001b[0m\u001b[0m\n\u001b[0;32m----> 4\u001b[0;31m \u001b[0mtrain_it\u001b[0m\u001b[0;34m\u001b[0m\u001b[0;34m\u001b[0m\u001b[0m\n\u001b[0m\u001b[1;32m      5\u001b[0m \u001b[0;34m\u001b[0m\u001b[0m\n\u001b[1;32m      6\u001b[0m \u001b[0;31m#import matplotlib.pyplot as plt\u001b[0m\u001b[0;34m\u001b[0m\u001b[0;34m\u001b[0m\u001b[0;34m\u001b[0m\u001b[0m\n",
      "\u001b[0;31mNameError\u001b[0m: name 'train_it' is not defined"
     ]
    }
   ],
   "source": [
    "#train_it = datagen.flow_from_directory('data/train/', class_mode='binary')\n",
    "#val_it = datagen.flow_from_directory('data/validation/', class_mode='binary')\n",
    "\n",
    "#train_it\n",
    "\n",
    "#import matplotlib.pyplot as plt\n",
    "\n",
    "#plt.imshow(train_it[0], cmap='gray', vmin=0, vmax=255)\n",
    "#plt.show()\n",
    "\n",
    "\n",
    "#batchX, batchy = train_it.next()\n",
    "#print('Batch shape=%s, min=%.3f, max=%.3f' % (batchX.shape, batchX.min(), batchX.max()))"
   ]
  },
  {
   "cell_type": "code",
   "execution_count": 4,
   "metadata": {
    "pycharm": {
     "is_executing": false
    }
   },
   "outputs": [
    {
     "name": "stdout",
     "output_type": "stream",
     "text": [
      "Model: \"sequential_1\"\n",
      "_________________________________________________________________\n",
      "Layer (type)                 Output Shape              Param #   \n",
      "=================================================================\n",
      "conv2d_1 (Conv2D)            (None, 254, 254, 32)      320       \n",
      "_________________________________________________________________\n",
      "max_pooling2d_1 (MaxPooling2 (None, 127, 127, 32)      0         \n",
      "_________________________________________________________________\n",
      "flatten_1 (Flatten)          (None, 516128)            0         \n",
      "_________________________________________________________________\n",
      "dense_1 (Dense)              (None, 128)               66064512  \n",
      "_________________________________________________________________\n",
      "dropout_1 (Dropout)          (None, 128)               0         \n",
      "_________________________________________________________________\n",
      "dense_2 (Dense)              (None, 2)                 258       \n",
      "=================================================================\n",
      "Total params: 66,065,090\n",
      "Trainable params: 66,065,090\n",
      "Non-trainable params: 0\n",
      "_________________________________________________________________\n"
     ]
    }
   ],
   "source": [
    "import keras\n",
    "from keras.layers import Dense, Flatten\n",
    "from keras.models import Sequential\n",
    "from keras.optimizers import SGD\n",
    "from keras.layers import Dense, Conv2D, Dropout, Flatten, MaxPooling2D\n",
    "import tensorflow as tf\n",
    "\n",
    "#bs = 32\n",
    "#epochs = 10\n",
    "#lr = 0.001\n",
    "\n",
    "#model = Sequential()\n",
    "#model.add(Flatten(input_shape=X_train[0].shape))\n",
    "#model.add(Dense(128, activation='relu'))\n",
    "#model.add(Dense(2, activation='softmax'))\n",
    "#model.compile(optimizer=SGD(lr), loss='sparse_categorical_crossentropy', metrics=['accuracy'])\n",
    "#model.summary()\n",
    "\n",
    "X_train = X_train.reshape(X_train.shape[0], 256, 256, 1)\n",
    "X_val = X_val.reshape(X_val.shape[0], 256, 256, 1)\n",
    "input_shape = (256, 256, 1)\n",
    "\n",
    "model = Sequential()\n",
    "model.add(Conv2D(32, kernel_size=(3,3), activation=tf.nn.relu, input_shape=input_shape))\n",
    "model.add(MaxPooling2D(pool_size=(2, 2)))\n",
    "model.add(Flatten()) # Flattening the 2D arrays for fully connected layers\n",
    "model.add(Dense(128, activation=tf.nn.relu))\n",
    "model.add(Dropout(0.2))\n",
    "model.add(Dense(2,activation=tf.nn.softmax))\n",
    "\n",
    "model.compile(optimizer='adam', \n",
    "              loss='sparse_categorical_crossentropy', \n",
    "metrics=['accuracy'])\n",
    "\n",
    "model.summary()\n",
    "\n",
    "\n",
    "##model building\n",
    "#model = Sequential()\n",
    "#convolutional layer with rectified linear unit activation\n",
    "#model.add(Conv2D(32, kernel_size=(3, 3),\n",
    "                 #activation='relu',\n",
    "                 #input_shape=input_shape))\n",
    "#32 convolution filters used each of size 3x3\n",
    "#again\n",
    "#model.add(Conv2D(64, (3, 3), activation='relu'))\n",
    "#64 convolution filters used each of size 3x3\n",
    "#choose the best features via pooling\n",
    "#model.add(MaxPooling2D(pool_size=(2, 2)))\n",
    "#randomly turn neurons on and off to improve convergence\n",
    "#model.add(Dropout(0.25))\n",
    "#flatten since too many dimensions, we only want a classification output\n",
    "#model.add(Flatten())\n",
    "#fully connected to get all relevant data\n",
    "#model.add(Dense(128, activation='relu'))\n",
    "#one more dropout for convergence' sake :) \n",
    "#model.add(Dropout(0.5))\n",
    "#output a softmax to squash the matrix into output probabilities\n",
    "#model.add(Dense(num_category, activation='softmax'))"
   ]
  },
  {
   "cell_type": "code",
   "execution_count": 5,
   "metadata": {
    "pycharm": {
     "is_executing": false
    }
   },
   "outputs": [
    {
     "name": "stdout",
     "output_type": "stream",
     "text": [
      "Train on 2 samples, validate on 2 samples\n",
      "Epoch 1/100\n",
      "2/2 [==============================] - 1s 707ms/step - loss: 0.6734 - accuracy: 1.0000 - val_loss: 1.0487 - val_accuracy: 0.5000\n",
      "Epoch 2/100\n",
      "2/2 [==============================] - 1s 592ms/step - loss: 0.0000e+00 - accuracy: 1.0000 - val_loss: 1.6079 - val_accuracy: 0.5000\n",
      "Epoch 3/100\n",
      "2/2 [==============================] - 1s 632ms/step - loss: 0.0000e+00 - accuracy: 1.0000 - val_loss: 2.0760 - val_accuracy: 0.5000\n",
      "Epoch 4/100\n",
      "2/2 [==============================] - 1s 585ms/step - loss: 0.0000e+00 - accuracy: 1.0000 - val_loss: 2.4740 - val_accuracy: 0.5000\n",
      "Epoch 5/100\n",
      "2/2 [==============================] - 1s 590ms/step - loss: 0.0000e+00 - accuracy: 1.0000 - val_loss: 2.8187 - val_accuracy: 0.5000\n",
      "Epoch 6/100\n",
      "2/2 [==============================] - 1s 594ms/step - loss: 0.0000e+00 - accuracy: 1.0000 - val_loss: 3.1200 - val_accuracy: 0.5000\n",
      "Epoch 7/100\n",
      "2/2 [==============================] - 1s 597ms/step - loss: 0.0000e+00 - accuracy: 1.0000 - val_loss: 3.3856 - val_accuracy: 0.5000\n",
      "Epoch 8/100\n",
      "2/2 [==============================] - 1s 601ms/step - loss: 0.0000e+00 - accuracy: 1.0000 - val_loss: 3.6223 - val_accuracy: 0.5000\n",
      "Epoch 9/100\n",
      "2/2 [==============================] - 1s 593ms/step - loss: 0.0000e+00 - accuracy: 1.0000 - val_loss: 3.8344 - val_accuracy: 0.5000\n",
      "Epoch 10/100\n",
      "2/2 [==============================] - 1s 649ms/step - loss: 0.0000e+00 - accuracy: 1.0000 - val_loss: 4.0253 - val_accuracy: 0.5000\n",
      "Epoch 11/100\n",
      "2/2 [==============================] - 1s 594ms/step - loss: 0.0000e+00 - accuracy: 1.0000 - val_loss: 4.1974 - val_accuracy: 0.5000\n",
      "Epoch 12/100\n",
      "2/2 [==============================] - 1s 604ms/step - loss: 0.0000e+00 - accuracy: 1.0000 - val_loss: 4.3534 - val_accuracy: 0.5000\n",
      "Epoch 13/100\n",
      "2/2 [==============================] - 1s 584ms/step - loss: 0.0000e+00 - accuracy: 1.0000 - val_loss: 4.4949 - val_accuracy: 0.5000\n",
      "Epoch 14/100\n",
      "2/2 [==============================] - 1s 619ms/step - loss: 0.0000e+00 - accuracy: 1.0000 - val_loss: 4.6234 - val_accuracy: 0.5000\n",
      "Epoch 15/100\n",
      "2/2 [==============================] - 1s 585ms/step - loss: 0.0000e+00 - accuracy: 1.0000 - val_loss: 4.7403 - val_accuracy: 0.5000\n",
      "Epoch 16/100\n",
      "2/2 [==============================] - 1s 586ms/step - loss: 0.0000e+00 - accuracy: 1.0000 - val_loss: 4.8467 - val_accuracy: 0.5000\n",
      "Epoch 17/100\n",
      "2/2 [==============================] - 1s 587ms/step - loss: 0.0000e+00 - accuracy: 1.0000 - val_loss: 4.9434 - val_accuracy: 0.5000\n",
      "Epoch 18/100\n",
      "2/2 [==============================] - 1s 624ms/step - loss: 0.0000e+00 - accuracy: 1.0000 - val_loss: 5.0316 - val_accuracy: 0.5000\n",
      "Epoch 19/100\n",
      "2/2 [==============================] - 1s 612ms/step - loss: 0.0000e+00 - accuracy: 1.0000 - val_loss: 5.1119 - val_accuracy: 0.5000\n",
      "Epoch 20/100\n",
      "2/2 [==============================] - 1s 612ms/step - loss: 0.0000e+00 - accuracy: 1.0000 - val_loss: 5.1852 - val_accuracy: 0.5000\n",
      "Epoch 21/100\n",
      "2/2 [==============================] - 1s 586ms/step - loss: 0.0000e+00 - accuracy: 1.0000 - val_loss: 5.2521 - val_accuracy: 0.5000\n",
      "Epoch 22/100\n",
      "2/2 [==============================] - 1s 682ms/step - loss: 0.0000e+00 - accuracy: 1.0000 - val_loss: 5.3131 - val_accuracy: 0.5000\n",
      "Epoch 23/100\n",
      "2/2 [==============================] - 1s 606ms/step - loss: 0.0000e+00 - accuracy: 1.0000 - val_loss: 5.3687 - val_accuracy: 0.5000\n",
      "Epoch 24/100\n",
      "2/2 [==============================] - 1s 584ms/step - loss: 0.0000e+00 - accuracy: 1.0000 - val_loss: 5.4195 - val_accuracy: 0.5000\n",
      "Epoch 25/100\n",
      "2/2 [==============================] - 1s 653ms/step - loss: 0.0000e+00 - accuracy: 1.0000 - val_loss: 5.4658 - val_accuracy: 0.5000\n",
      "Epoch 26/100\n",
      "2/2 [==============================] - 1s 584ms/step - loss: 0.0000e+00 - accuracy: 1.0000 - val_loss: 5.5081 - val_accuracy: 0.5000\n",
      "Epoch 27/100\n",
      "2/2 [==============================] - 1s 588ms/step - loss: 0.0000e+00 - accuracy: 1.0000 - val_loss: 5.5467 - val_accuracy: 0.5000\n",
      "Epoch 28/100\n",
      "2/2 [==============================] - 1s 580ms/step - loss: 0.0000e+00 - accuracy: 1.0000 - val_loss: 5.5819 - val_accuracy: 0.5000\n",
      "Epoch 29/100\n",
      "2/2 [==============================] - 1s 584ms/step - loss: 0.0000e+00 - accuracy: 1.0000 - val_loss: 5.6140 - val_accuracy: 0.5000\n",
      "Epoch 30/100\n",
      "2/2 [==============================] - 1s 593ms/step - loss: 0.0000e+00 - accuracy: 1.0000 - val_loss: 5.6434 - val_accuracy: 0.5000\n",
      "Epoch 31/100\n",
      "2/2 [==============================] - 1s 635ms/step - loss: 0.0000e+00 - accuracy: 1.0000 - val_loss: 5.6702 - val_accuracy: 0.5000\n",
      "Epoch 32/100\n",
      "2/2 [==============================] - 1s 677ms/step - loss: 0.0000e+00 - accuracy: 1.0000 - val_loss: 5.6946 - val_accuracy: 0.5000\n",
      "Epoch 33/100\n",
      "2/2 [==============================] - 2s 779ms/step - loss: 0.0000e+00 - accuracy: 1.0000 - val_loss: 5.7168 - val_accuracy: 0.5000\n",
      "Epoch 34/100\n",
      "2/2 [==============================] - 1s 703ms/step - loss: 0.0000e+00 - accuracy: 1.0000 - val_loss: 5.7371 - val_accuracy: 0.5000\n",
      "Epoch 35/100\n",
      "2/2 [==============================] - 1s 583ms/step - loss: 0.0000e+00 - accuracy: 1.0000 - val_loss: 5.7556 - val_accuracy: 0.5000\n",
      "Epoch 36/100\n",
      "2/2 [==============================] - 1s 588ms/step - loss: 0.0000e+00 - accuracy: 1.0000 - val_loss: 5.7724 - val_accuracy: 0.5000\n",
      "Epoch 37/100\n",
      "2/2 [==============================] - 1s 583ms/step - loss: 0.0000e+00 - accuracy: 1.0000 - val_loss: 5.7877 - val_accuracy: 0.5000\n",
      "Epoch 38/100\n",
      "2/2 [==============================] - 1s 586ms/step - loss: 0.0000e+00 - accuracy: 1.0000 - val_loss: 5.8017 - val_accuracy: 0.5000\n",
      "Epoch 39/100\n",
      "2/2 [==============================] - 1s 589ms/step - loss: 0.0000e+00 - accuracy: 1.0000 - val_loss: 5.8145 - val_accuracy: 0.5000\n",
      "Epoch 40/100\n",
      "2/2 [==============================] - 1s 615ms/step - loss: 0.0000e+00 - accuracy: 1.0000 - val_loss: 5.8260 - val_accuracy: 0.5000\n",
      "Epoch 41/100\n",
      "2/2 [==============================] - 1s 591ms/step - loss: 0.0000e+00 - accuracy: 1.0000 - val_loss: 5.8366 - val_accuracy: 0.5000\n",
      "Epoch 42/100\n",
      "2/2 [==============================] - 1s 583ms/step - loss: 0.0000e+00 - accuracy: 1.0000 - val_loss: 5.8462 - val_accuracy: 0.5000\n",
      "Epoch 43/100\n",
      "2/2 [==============================] - 1s 581ms/step - loss: 0.0000e+00 - accuracy: 1.0000 - val_loss: 5.8549 - val_accuracy: 0.5000\n",
      "Epoch 44/100\n",
      "2/2 [==============================] - 1s 589ms/step - loss: 0.0000e+00 - accuracy: 1.0000 - val_loss: 5.8629 - val_accuracy: 0.5000\n",
      "Epoch 45/100\n",
      "2/2 [==============================] - 1s 701ms/step - loss: 0.0000e+00 - accuracy: 1.0000 - val_loss: 5.8701 - val_accuracy: 0.5000\n",
      "Epoch 46/100\n",
      "2/2 [==============================] - 1s 605ms/step - loss: 0.0000e+00 - accuracy: 1.0000 - val_loss: 5.8767 - val_accuracy: 0.5000\n",
      "Epoch 47/100\n",
      "2/2 [==============================] - 1s 578ms/step - loss: 0.0000e+00 - accuracy: 1.0000 - val_loss: 5.8827 - val_accuracy: 0.5000\n",
      "Epoch 48/100\n",
      "2/2 [==============================] - 1s 589ms/step - loss: 0.0000e+00 - accuracy: 1.0000 - val_loss: 5.8881 - val_accuracy: 0.5000\n",
      "Epoch 49/100\n",
      "2/2 [==============================] - 1s 595ms/step - loss: 0.0000e+00 - accuracy: 1.0000 - val_loss: 5.8931 - val_accuracy: 0.5000\n",
      "Epoch 50/100\n",
      "2/2 [==============================] - 1s 591ms/step - loss: 0.0000e+00 - accuracy: 1.0000 - val_loss: 5.8976 - val_accuracy: 0.5000\n",
      "Epoch 51/100\n",
      "2/2 [==============================] - 1s 582ms/step - loss: 0.0000e+00 - accuracy: 1.0000 - val_loss: 5.9017 - val_accuracy: 0.5000\n",
      "Epoch 52/100\n",
      "2/2 [==============================] - 1s 631ms/step - loss: 0.0000e+00 - accuracy: 1.0000 - val_loss: 5.9054 - val_accuracy: 0.5000\n",
      "Epoch 53/100\n",
      "2/2 [==============================] - 2s 760ms/step - loss: 0.0000e+00 - accuracy: 1.0000 - val_loss: 5.9088 - val_accuracy: 0.5000\n",
      "Epoch 54/100\n",
      "2/2 [==============================] - 1s 589ms/step - loss: 0.0000e+00 - accuracy: 1.0000 - val_loss: 5.9118 - val_accuracy: 0.5000\n",
      "Epoch 55/100\n",
      "2/2 [==============================] - 1s 585ms/step - loss: 0.0000e+00 - accuracy: 1.0000 - val_loss: 5.9146 - val_accuracy: 0.5000\n",
      "Epoch 56/100\n",
      "2/2 [==============================] - 1s 717ms/step - loss: 0.0000e+00 - accuracy: 1.0000 - val_loss: 5.9172 - val_accuracy: 0.5000\n",
      "Epoch 57/100\n",
      "2/2 [==============================] - 1s 680ms/step - loss: 0.0000e+00 - accuracy: 1.0000 - val_loss: 5.9195 - val_accuracy: 0.5000\n",
      "Epoch 58/100\n",
      "2/2 [==============================] - 1s 656ms/step - loss: 0.0000e+00 - accuracy: 1.0000 - val_loss: 5.9215 - val_accuracy: 0.5000\n",
      "Epoch 59/100\n",
      "2/2 [==============================] - 1s 610ms/step - loss: 0.0000e+00 - accuracy: 1.0000 - val_loss: 5.9234 - val_accuracy: 0.5000\n",
      "Epoch 60/100\n",
      "2/2 [==============================] - 1s 592ms/step - loss: 0.0000e+00 - accuracy: 1.0000 - val_loss: 5.9252 - val_accuracy: 0.5000\n",
      "Epoch 61/100\n",
      "2/2 [==============================] - 1s 594ms/step - loss: 0.0000e+00 - accuracy: 1.0000 - val_loss: 5.9267 - val_accuracy: 0.5000\n",
      "Epoch 62/100\n",
      "2/2 [==============================] - 1s 590ms/step - loss: 0.0000e+00 - accuracy: 1.0000 - val_loss: 5.9281 - val_accuracy: 0.5000\n",
      "Epoch 63/100\n",
      "2/2 [==============================] - 1s 592ms/step - loss: 0.0000e+00 - accuracy: 1.0000 - val_loss: 5.9294 - val_accuracy: 0.5000\n",
      "Epoch 64/100\n",
      "2/2 [==============================] - 1s 590ms/step - loss: 0.0000e+00 - accuracy: 1.0000 - val_loss: 5.9306 - val_accuracy: 0.5000\n",
      "Epoch 65/100\n",
      "2/2 [==============================] - 1s 636ms/step - loss: 0.0000e+00 - accuracy: 1.0000 - val_loss: 5.9316 - val_accuracy: 0.5000\n",
      "Epoch 66/100\n",
      "2/2 [==============================] - 1s 638ms/step - loss: 0.0000e+00 - accuracy: 1.0000 - val_loss: 5.9326 - val_accuracy: 0.5000\n",
      "Epoch 67/100\n",
      "2/2 [==============================] - 1s 663ms/step - loss: 0.0000e+00 - accuracy: 1.0000 - val_loss: 5.9335 - val_accuracy: 0.5000\n",
      "Epoch 68/100\n",
      "2/2 [==============================] - 1s 619ms/step - loss: 0.0000e+00 - accuracy: 1.0000 - val_loss: 5.9342 - val_accuracy: 0.5000\n",
      "Epoch 69/100\n",
      "2/2 [==============================] - 1s 627ms/step - loss: 0.0000e+00 - accuracy: 1.0000 - val_loss: 5.9350 - val_accuracy: 0.5000\n",
      "Epoch 70/100\n",
      "2/2 [==============================] - 1s 612ms/step - loss: 0.0000e+00 - accuracy: 1.0000 - val_loss: 5.9356 - val_accuracy: 0.5000\n",
      "Epoch 71/100\n",
      "2/2 [==============================] - 1s 632ms/step - loss: 0.0000e+00 - accuracy: 1.0000 - val_loss: 5.9362 - val_accuracy: 0.5000\n",
      "Epoch 72/100\n",
      "2/2 [==============================] - 1s 613ms/step - loss: 0.0000e+00 - accuracy: 1.0000 - val_loss: 5.9367 - val_accuracy: 0.5000\n",
      "Epoch 73/100\n",
      "2/2 [==============================] - 1s 639ms/step - loss: 0.0000e+00 - accuracy: 1.0000 - val_loss: 5.9372 - val_accuracy: 0.5000\n",
      "Epoch 74/100\n",
      "2/2 [==============================] - 1s 618ms/step - loss: 0.0000e+00 - accuracy: 1.0000 - val_loss: 5.9377 - val_accuracy: 0.5000\n",
      "Epoch 75/100\n",
      "2/2 [==============================] - 1s 626ms/step - loss: 0.0000e+00 - accuracy: 1.0000 - val_loss: 5.9381 - val_accuracy: 0.5000\n",
      "Epoch 76/100\n",
      "2/2 [==============================] - 1s 602ms/step - loss: 0.0000e+00 - accuracy: 1.0000 - val_loss: 5.9384 - val_accuracy: 0.5000\n",
      "Epoch 77/100\n",
      "2/2 [==============================] - 1s 645ms/step - loss: 0.0000e+00 - accuracy: 1.0000 - val_loss: 5.9387 - val_accuracy: 0.5000\n",
      "Epoch 78/100\n",
      "2/2 [==============================] - 1s 625ms/step - loss: 0.0000e+00 - accuracy: 1.0000 - val_loss: 5.9390 - val_accuracy: 0.5000\n",
      "Epoch 79/100\n",
      "2/2 [==============================] - 1s 591ms/step - loss: 0.0000e+00 - accuracy: 1.0000 - val_loss: 5.9393 - val_accuracy: 0.5000\n",
      "Epoch 80/100\n",
      "2/2 [==============================] - 1s 625ms/step - loss: 0.0000e+00 - accuracy: 1.0000 - val_loss: 5.9395 - val_accuracy: 0.5000\n",
      "Epoch 81/100\n",
      "2/2 [==============================] - 1s 696ms/step - loss: 0.0000e+00 - accuracy: 1.0000 - val_loss: 5.9398 - val_accuracy: 0.5000\n",
      "Epoch 82/100\n",
      "2/2 [==============================] - 1s 714ms/step - loss: 0.0000e+00 - accuracy: 1.0000 - val_loss: 5.9400 - val_accuracy: 0.5000\n",
      "Epoch 83/100\n",
      "2/2 [==============================] - 1s 619ms/step - loss: 0.0000e+00 - accuracy: 1.0000 - val_loss: 5.9401 - val_accuracy: 0.5000\n",
      "Epoch 84/100\n",
      "2/2 [==============================] - 1s 684ms/step - loss: 0.0000e+00 - accuracy: 1.0000 - val_loss: 5.9403 - val_accuracy: 0.5000\n",
      "Epoch 85/100\n",
      "2/2 [==============================] - 1s 593ms/step - loss: 0.0000e+00 - accuracy: 1.0000 - val_loss: 5.9405 - val_accuracy: 0.5000\n",
      "Epoch 86/100\n",
      "2/2 [==============================] - 1s 594ms/step - loss: 0.0000e+00 - accuracy: 1.0000 - val_loss: 5.9406 - val_accuracy: 0.5000\n",
      "Epoch 87/100\n",
      "2/2 [==============================] - 1s 593ms/step - loss: 0.0000e+00 - accuracy: 1.0000 - val_loss: 5.9407 - val_accuracy: 0.5000\n",
      "Epoch 88/100\n",
      "2/2 [==============================] - 1s 598ms/step - loss: 0.0000e+00 - accuracy: 1.0000 - val_loss: 5.9408 - val_accuracy: 0.5000\n",
      "Epoch 89/100\n",
      "2/2 [==============================] - 1s 588ms/step - loss: 0.0000e+00 - accuracy: 1.0000 - val_loss: 5.9409 - val_accuracy: 0.5000\n",
      "Epoch 90/100\n",
      "2/2 [==============================] - 1s 591ms/step - loss: 0.0000e+00 - accuracy: 1.0000 - val_loss: 5.9410 - val_accuracy: 0.5000\n",
      "Epoch 91/100\n",
      "2/2 [==============================] - 1s 589ms/step - loss: 0.0000e+00 - accuracy: 1.0000 - val_loss: 5.9411 - val_accuracy: 0.5000\n",
      "Epoch 92/100\n",
      "2/2 [==============================] - 1s 591ms/step - loss: 0.0000e+00 - accuracy: 1.0000 - val_loss: 5.9412 - val_accuracy: 0.5000\n",
      "Epoch 93/100\n",
      "2/2 [==============================] - 1s 587ms/step - loss: 0.0000e+00 - accuracy: 1.0000 - val_loss: 5.9412 - val_accuracy: 0.5000\n",
      "Epoch 94/100\n",
      "2/2 [==============================] - 1s 583ms/step - loss: 0.0000e+00 - accuracy: 1.0000 - val_loss: 5.9413 - val_accuracy: 0.5000\n",
      "Epoch 95/100\n",
      "2/2 [==============================] - 1s 596ms/step - loss: 0.0000e+00 - accuracy: 1.0000 - val_loss: 5.9413 - val_accuracy: 0.5000\n",
      "Epoch 96/100\n",
      "2/2 [==============================] - 1s 593ms/step - loss: 0.0000e+00 - accuracy: 1.0000 - val_loss: 5.9414 - val_accuracy: 0.5000\n",
      "Epoch 97/100\n",
      "2/2 [==============================] - 1s 620ms/step - loss: 0.0000e+00 - accuracy: 1.0000 - val_loss: 5.9414 - val_accuracy: 0.5000\n",
      "Epoch 98/100\n",
      "2/2 [==============================] - 1s 609ms/step - loss: 0.0000e+00 - accuracy: 1.0000 - val_loss: 5.9415 - val_accuracy: 0.5000\n",
      "Epoch 99/100\n",
      "2/2 [==============================] - 1s 588ms/step - loss: 0.0000e+00 - accuracy: 1.0000 - val_loss: 5.9415 - val_accuracy: 0.5000\n",
      "Epoch 100/100\n",
      "2/2 [==============================] - 1s 584ms/step - loss: 0.0000e+00 - accuracy: 1.0000 - val_loss: 5.9415 - val_accuracy: 0.5000\n"
     ]
    }
   ],
   "source": [
    "# log = model.fit(X_train, y_train, batch_size=bs, epochs=epochs, validation_data=[X_val, y_val])\n",
    "log = model.fit(x=X_train,y=y_train, batch_size=128, epochs=100, validation_data=(X_val, y_val))"
   ]
  },
  {
   "cell_type": "code",
   "execution_count": 6,
   "metadata": {},
   "outputs": [
    {
     "data": {
      "text/plain": [
       "<matplotlib.legend.Legend at 0x7ff3a0193b10>"
      ]
     },
     "execution_count": 6,
     "metadata": {},
     "output_type": "execute_result"
    },
    {
     "data": {
      "image/png": "[encoded data removed]",
      "text/plain": [
       "<Figure size 432x288 with 1 Axes>"
      ]
     },
     "metadata": {
      "needs_background": "light"
     },
     "output_type": "display_data"
    }
   ],
   "source": [
    "plt.plot(log.history['loss'], label='train')\n",
    "plt.plot(log.history['val_loss'], label='validation')\n",
    "plt.legend()"
   ]
  }
 ],
 "metadata": {
  "kernelspec": {
   "display_name": "Python 3",
   "language": "python",
   "name": "python3"
  },
  "language_info": {
   "codemirror_mode": {
    "name": "ipython",
    "version": 3
   },
   "file_extension": ".py",
   "mimetype": "text/x-python",
   "name": "python",
   "nbconvert_exporter": "python",
   "pygments_lexer": "ipython3",
   "version": "3.7.4"
  }
 },
 "nbformat": 4,
 "nbformat_minor": 4
}
