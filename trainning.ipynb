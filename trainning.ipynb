{
 "cells": [
  {
   "cell_type": "code",
   "execution_count": 38,
   "metadata": {
    "pycharm": {
     "is_executing": false
    }
   },
   "outputs": [
    {
     "data": {
      "text/plain": [
       "(2000, 256, 256)"
      ]
     },
     "execution_count": 38,
     "metadata": {},
     "output_type": "execute_result"
    }
   ],
   "source": [
    "from keras.preprocessing.image import ImageDataGenerator, array_to_img, img_to_array, load_img\n",
    "import os\n",
    "import resource\n",
    "import numpy as np\n",
    "from skimage import img_as_bool, io, color\n",
    "\n",
    "soft, hard = resource.getrlimit(resource.RLIMIT_NOFILE)\n",
    "resource.setrlimit(resource.RLIMIT_NOFILE, (hard, hard))\n",
    "\n",
    "thickTrainDir = \"data/train/thick/\"\n",
    "thinTrainDir = \"data/train/thin/\"\n",
    "thickValDir = \"data/validation/thick/\"\n",
    "thinValDir = \"data/validation/thin/\"\n",
    "\n",
    "X_train = []\n",
    "y_train = []\n",
    "X_val = []\n",
    "y_val = []\n",
    "\n",
    "#thickImgs = os.listdir(thickTrainDir)\n",
    "#for thickImg in thickImgs:\n",
    "#    imgPath = thickTrainDir + thickImg\n",
    "#    if not os.path.isdir(imgPath) :\n",
    "#        x = load_img(imgPath)\n",
    "#        x = img_as_bool(color.rgb2gray(io.imread(imgPath)))\n",
    "#        x_train.append(x)\n",
    "\n",
    "#x_train = np.array(x_train)\n",
    "\n",
    "def appendImgs(imglist, labels, directory):\n",
    "    imgs = os.listdir(directory)\n",
    "    for img in imgs:\n",
    "        imgPath = directory + img\n",
    "        if not os.path.isdir(imgPath) :\n",
    "            x = load_img(imgPath)\n",
    "            x = img_as_bool(color.rgb2gray(io.imread(imgPath)))\n",
    "            imglist.append(x)\n",
    "            if 'thick' in imgPath:\n",
    "                labels.append(1)\n",
    "            elif 'thin' in imgPath:\n",
    "                labels.append(0)\n",
    "\n",
    "appendImgs(X_train, y_train, thickTrainDir)\n",
    "appendImgs(X_train, y_train, thinTrainDir)\n",
    "\n",
    "appendImgs(X_val, y_val, thickValDir)\n",
    "appendImgs(X_val, y_val, thinValDir)\n",
    "\n",
    "X_train = np.array(X_train)\n",
    "y_train = np.array(y_train)\n",
    "\n",
    "X_val = np.array(X_val)\n",
    "y_val = np.array(y_val)\n",
    "\n",
    "X_train.shape\n",
    "\n",
    "\n",
    "#train_thick =   \n",
    "\n",
    "# create generator\n",
    "#datagen = ImageDataGenerator()"
   ]
  },
  {
   "cell_type": "code",
   "execution_count": 46,
   "metadata": {},
   "outputs": [
    {
     "data": {
      "text/plain": [
       "<matplotlib.image.AxesImage at 0x7f2f71b39128>"
      ]
     },
     "execution_count": 46,
     "metadata": {},
     "output_type": "execute_result"
    },
    {
     "data": {
      "image/png": "[encoded data removed]",
      "text/plain": [
       "<Figure size 432x288 with 1 Axes>"
      ]
     },
     "metadata": {
      "needs_background": "light"
     },
     "output_type": "display_data"
    }
   ],
   "source": [
    "plt.imshow(X_train[-1])"
   ]
  },
  {
   "cell_type": "code",
   "execution_count": null,
   "metadata": {},
   "outputs": [],
   "source": []
  },
  {
   "cell_type": "code",
   "execution_count": 6,
   "metadata": {
    "pycharm": {
     "is_executing": false
    }
   },
   "outputs": [
    {
     "name": "stdout",
     "output_type": "stream",
     "text": [
      "Found 2001 images belonging to 2 classes.\n",
      "Found 400 images belonging to 2 classes.\n"
     ]
    },
    {
     "data": {
      "text/plain": [
       "<keras_preprocessing.image.directory_iterator.DirectoryIterator at 0x7f2fb137b208>"
      ]
     },
     "execution_count": 6,
     "metadata": {},
     "output_type": "execute_result"
    }
   ],
   "source": [
    "#train_it = datagen.flow_from_directory('data/train/', class_mode='binary')\n",
    "#val_it = datagen.flow_from_directory('data/validation/', class_mode='binary')\n",
    "\n",
    "train_it\n",
    "\n",
    "#import matplotlib.pyplot as plt\n",
    "\n",
    "#plt.imshow(train_it[0], cmap='gray', vmin=0, vmax=255)\n",
    "#plt.show()\n",
    "\n",
    "\n",
    "#batchX, batchy = train_it.next()\n",
    "#print('Batch shape=%s, min=%.3f, max=%.3f' % (batchX.shape, batchX.min(), batchX.max()))"
   ]
  },
  {
   "cell_type": "code",
   "execution_count": 48,
   "metadata": {
    "pycharm": {
     "is_executing": false
    }
   },
   "outputs": [
    {
     "name": "stdout",
     "output_type": "stream",
     "text": [
      "WARNING:tensorflow:From /home/alain/anaconda3/lib/python3.7/site-packages/tensorflow/python/framework/op_def_library.py:263: colocate_with (from tensorflow.python.framework.ops) is deprecated and will be removed in a future version.\n",
      "Instructions for updating:\n",
      "Colocations handled automatically by placer.\n",
      "_________________________________________________________________\n",
      "Layer (type)                 Output Shape              Param #   \n",
      "=================================================================\n",
      "flatten_1 (Flatten)          (None, 65536)             0         \n",
      "_________________________________________________________________\n",
      "dense_1 (Dense)              (None, 128)               8388736   \n",
      "_________________________________________________________________\n",
      "dense_2 (Dense)              (None, 2)                 258       \n",
      "=================================================================\n",
      "Total params: 8,388,994\n",
      "Trainable params: 8,388,994\n",
      "Non-trainable params: 0\n",
      "_________________________________________________________________\n"
     ]
    }
   ],
   "source": [
    "import keras\n",
    "from keras.layers import Dense, Flatten\n",
    "from keras.models import Sequential\n",
    "from keras.optimizers import SGD\n",
    "\n",
    "bs = 32\n",
    "epochs = 100\n",
    "lr = 0.01\n",
    "\n",
    "model = Sequential()\n",
    "model.add(Flatten(input_shape=X_train[0].shape))\n",
    "model.add(Dense(128, activation='relu'))\n",
    "model.add(Dense(2, activation='softmax'))\n",
    "\n",
    "model.compile(optimizer=SGD(lr), loss='sparse_categorical_crossentropy', metrics=['accuracy'])\n",
    "\n",
    "model.summary()"
   ]
  },
  {
   "cell_type": "code",
   "execution_count": 49,
   "metadata": {
    "pycharm": {
     "is_executing": false
    }
   },
   "outputs": [
    {
     "name": "stdout",
     "output_type": "stream",
     "text": [
      "WARNING:tensorflow:From /home/alain/anaconda3/lib/python3.7/site-packages/tensorflow/python/ops/math_ops.py:3066: to_int32 (from tensorflow.python.ops.math_ops) is deprecated and will be removed in a future version.\n",
      "Instructions for updating:\n",
      "Use tf.cast instead.\n",
      "Train on 2000 samples, validate on 400 samples\n",
      "Epoch 1/100\n",
      "2000/2000 [==============================] - 8s 4ms/step - loss: 0.6782 - acc: 0.6225 - val_loss: 0.4797 - val_acc: 0.8375\n",
      "Epoch 2/100\n",
      "2000/2000 [==============================] - 6s 3ms/step - loss: 0.4220 - acc: 0.8195 - val_loss: 0.5169 - val_acc: 0.5600\n",
      "Epoch 3/100\n",
      "2000/2000 [==============================] - 6s 3ms/step - loss: 0.3290 - acc: 0.9010 - val_loss: 0.4256 - val_acc: 0.7150\n",
      "Epoch 4/100\n",
      "2000/2000 [==============================] - 6s 3ms/step - loss: 0.2044 - acc: 0.9595 - val_loss: 0.3517 - val_acc: 0.8200\n",
      "Epoch 5/100\n",
      "2000/2000 [==============================] - 6s 3ms/step - loss: 0.1181 - acc: 0.9890 - val_loss: 0.5202 - val_acc: 0.6175\n",
      "Epoch 6/100\n",
      "2000/2000 [==============================] - 6s 3ms/step - loss: 0.0606 - acc: 1.0000 - val_loss: 0.3559 - val_acc: 0.8050\n",
      "Epoch 7/100\n",
      "2000/2000 [==============================] - 6s 3ms/step - loss: 0.0398 - acc: 1.0000 - val_loss: 0.3532 - val_acc: 0.8025\n",
      "Epoch 8/100\n",
      "2000/2000 [==============================] - 6s 3ms/step - loss: 0.0278 - acc: 1.0000 - val_loss: 0.3231 - val_acc: 0.8550\n",
      "Epoch 9/100\n",
      "2000/2000 [==============================] - 6s 3ms/step - loss: 0.0215 - acc: 1.0000 - val_loss: 0.3244 - val_acc: 0.8550\n",
      "Epoch 10/100\n",
      "2000/2000 [==============================] - 6s 3ms/step - loss: 0.0174 - acc: 1.0000 - val_loss: 0.3361 - val_acc: 0.8375\n",
      "Epoch 11/100\n",
      "2000/2000 [==============================] - 7s 4ms/step - loss: 0.0144 - acc: 1.0000 - val_loss: 0.3378 - val_acc: 0.8300\n",
      "Epoch 12/100\n",
      "2000/2000 [==============================] - 6s 3ms/step - loss: 0.0123 - acc: 1.0000 - val_loss: 0.3341 - val_acc: 0.8375\n",
      "Epoch 13/100\n",
      "2000/2000 [==============================] - 6s 3ms/step - loss: 0.0107 - acc: 1.0000 - val_loss: 0.3469 - val_acc: 0.8300\n",
      "Epoch 14/100\n",
      "2000/2000 [==============================] - 6s 3ms/step - loss: 0.0094 - acc: 1.0000 - val_loss: 0.3493 - val_acc: 0.8225\n",
      "Epoch 15/100\n",
      "2000/2000 [==============================] - 6s 3ms/step - loss: 0.0083 - acc: 1.0000 - val_loss: 0.3501 - val_acc: 0.8275\n",
      "Epoch 16/100\n",
      "2000/2000 [==============================] - 6s 3ms/step - loss: 0.0075 - acc: 1.0000 - val_loss: 0.3498 - val_acc: 0.8200\n",
      "Epoch 17/100\n",
      "2000/2000 [==============================] - 6s 3ms/step - loss: 0.0068 - acc: 1.0000 - val_loss: 0.3574 - val_acc: 0.8225\n",
      "Epoch 18/100\n",
      "2000/2000 [==============================] - 6s 3ms/step - loss: 0.0062 - acc: 1.0000 - val_loss: 0.3720 - val_acc: 0.8175\n",
      "Epoch 19/100\n",
      "2000/2000 [==============================] - 6s 3ms/step - loss: 0.0057 - acc: 1.0000 - val_loss: 0.3626 - val_acc: 0.8225\n",
      "Epoch 20/100\n",
      "2000/2000 [==============================] - 6s 3ms/step - loss: 0.0053 - acc: 1.0000 - val_loss: 0.3597 - val_acc: 0.8150\n",
      "Epoch 21/100\n",
      "2000/2000 [==============================] - 6s 3ms/step - loss: 0.0049 - acc: 1.0000 - val_loss: 0.3559 - val_acc: 0.8175\n",
      "Epoch 22/100\n",
      "2000/2000 [==============================] - 6s 3ms/step - loss: 0.0046 - acc: 1.0000 - val_loss: 0.3683 - val_acc: 0.8225\n",
      "Epoch 23/100\n",
      "2000/2000 [==============================] - 6s 3ms/step - loss: 0.0043 - acc: 1.0000 - val_loss: 0.3590 - val_acc: 0.8175\n",
      "Epoch 24/100\n",
      "2000/2000 [==============================] - 6s 3ms/step - loss: 0.0040 - acc: 1.0000 - val_loss: 0.3699 - val_acc: 0.8125\n",
      "Epoch 25/100\n",
      "2000/2000 [==============================] - 6s 3ms/step - loss: 0.0038 - acc: 1.0000 - val_loss: 0.3721 - val_acc: 0.8125\n",
      "Epoch 26/100\n",
      "2000/2000 [==============================] - 6s 3ms/step - loss: 0.0036 - acc: 1.0000 - val_loss: 0.3684 - val_acc: 0.8150\n",
      "Epoch 27/100\n",
      "2000/2000 [==============================] - 6s 3ms/step - loss: 0.0034 - acc: 1.0000 - val_loss: 0.3785 - val_acc: 0.8175\n",
      "Epoch 28/100\n",
      "2000/2000 [==============================] - 6s 3ms/step - loss: 0.0032 - acc: 1.0000 - val_loss: 0.3658 - val_acc: 0.8175\n",
      "Epoch 29/100\n",
      "2000/2000 [==============================] - 6s 3ms/step - loss: 0.0031 - acc: 1.0000 - val_loss: 0.3874 - val_acc: 0.8200\n",
      "Epoch 30/100\n",
      "2000/2000 [==============================] - 6s 3ms/step - loss: 0.0029 - acc: 1.0000 - val_loss: 0.3830 - val_acc: 0.8150\n",
      "Epoch 31/100\n",
      "2000/2000 [==============================] - 6s 3ms/step - loss: 0.0028 - acc: 1.0000 - val_loss: 0.3823 - val_acc: 0.8125\n",
      "Epoch 32/100\n",
      "2000/2000 [==============================] - 6s 3ms/step - loss: 0.0027 - acc: 1.0000 - val_loss: 0.3759 - val_acc: 0.8150\n",
      "Epoch 33/100\n",
      "2000/2000 [==============================] - 6s 3ms/step - loss: 0.0026 - acc: 1.0000 - val_loss: 0.3877 - val_acc: 0.8150\n",
      "Epoch 34/100\n",
      "2000/2000 [==============================] - 6s 3ms/step - loss: 0.0025 - acc: 1.0000 - val_loss: 0.3845 - val_acc: 0.8075\n",
      "Epoch 35/100\n",
      "2000/2000 [==============================] - 6s 3ms/step - loss: 0.0024 - acc: 1.0000 - val_loss: 0.3842 - val_acc: 0.8075\n",
      "Epoch 36/100\n",
      "2000/2000 [==============================] - 6s 3ms/step - loss: 0.0023 - acc: 1.0000 - val_loss: 0.3896 - val_acc: 0.8100\n",
      "Epoch 37/100\n",
      "2000/2000 [==============================] - 6s 3ms/step - loss: 0.0022 - acc: 1.0000 - val_loss: 0.3839 - val_acc: 0.8100\n",
      "Epoch 38/100\n",
      "2000/2000 [==============================] - 7s 3ms/step - loss: 0.0021 - acc: 1.0000 - val_loss: 0.3886 - val_acc: 0.8075\n",
      "Epoch 39/100\n",
      "2000/2000 [==============================] - 6s 3ms/step - loss: 0.0021 - acc: 1.0000 - val_loss: 0.3899 - val_acc: 0.8075\n",
      "Epoch 40/100\n",
      "2000/2000 [==============================] - 7s 3ms/step - loss: 0.0020 - acc: 1.0000 - val_loss: 0.3946 - val_acc: 0.8075\n",
      "Epoch 41/100\n",
      "2000/2000 [==============================] - 7s 3ms/step - loss: 0.0019 - acc: 1.0000 - val_loss: 0.3950 - val_acc: 0.8075\n",
      "Epoch 42/100\n",
      "2000/2000 [==============================] - 6s 3ms/step - loss: 0.0019 - acc: 1.0000 - val_loss: 0.3907 - val_acc: 0.8075\n",
      "Epoch 43/100\n",
      "2000/2000 [==============================] - 7s 3ms/step - loss: 0.0018 - acc: 1.0000 - val_loss: 0.3929 - val_acc: 0.8075\n",
      "Epoch 44/100\n",
      "2000/2000 [==============================] - 6s 3ms/step - loss: 0.0017 - acc: 1.0000 - val_loss: 0.3996 - val_acc: 0.8075\n",
      "Epoch 45/100\n",
      "2000/2000 [==============================] - 6s 3ms/step - loss: 0.0017 - acc: 1.0000 - val_loss: 0.3996 - val_acc: 0.8075\n",
      "Epoch 46/100\n",
      "2000/2000 [==============================] - 6s 3ms/step - loss: 0.0016 - acc: 1.0000 - val_loss: 0.3969 - val_acc: 0.8075\n",
      "Epoch 47/100\n",
      "2000/2000 [==============================] - 7s 4ms/step - loss: 0.0016 - acc: 1.0000 - val_loss: 0.4001 - val_acc: 0.8050\n",
      "Epoch 48/100\n",
      "2000/2000 [==============================] - 7s 3ms/step - loss: 0.0016 - acc: 1.0000 - val_loss: 0.4046 - val_acc: 0.8075\n",
      "Epoch 49/100\n",
      "2000/2000 [==============================] - 6s 3ms/step - loss: 0.0015 - acc: 1.0000 - val_loss: 0.4011 - val_acc: 0.8075\n",
      "Epoch 50/100\n",
      "2000/2000 [==============================] - 6s 3ms/step - loss: 0.0015 - acc: 1.0000 - val_loss: 0.4024 - val_acc: 0.8050\n",
      "Epoch 51/100\n",
      "2000/2000 [==============================] - 7s 3ms/step - loss: 0.0014 - acc: 1.0000 - val_loss: 0.4048 - val_acc: 0.8050\n",
      "Epoch 52/100\n",
      "2000/2000 [==============================] - 7s 3ms/step - loss: 0.0014 - acc: 1.0000 - val_loss: 0.4026 - val_acc: 0.8075\n",
      "Epoch 53/100\n",
      "2000/2000 [==============================] - 6s 3ms/step - loss: 0.0014 - acc: 1.0000 - val_loss: 0.4059 - val_acc: 0.8050\n",
      "Epoch 54/100\n",
      "2000/2000 [==============================] - 9s 4ms/step - loss: 0.0013 - acc: 1.0000 - val_loss: 0.4066 - val_acc: 0.8050\n",
      "Epoch 55/100\n",
      "2000/2000 [==============================] - 8s 4ms/step - loss: 0.0013 - acc: 1.0000 - val_loss: 0.4065 - val_acc: 0.8050\n",
      "Epoch 56/100\n",
      "2000/2000 [==============================] - 7s 3ms/step - loss: 0.0013 - acc: 1.0000 - val_loss: 0.4050 - val_acc: 0.8075\n",
      "Epoch 57/100\n",
      "2000/2000 [==============================] - 7s 3ms/step - loss: 0.0012 - acc: 1.0000 - val_loss: 0.4113 - val_acc: 0.8025\n",
      "Epoch 58/100\n",
      "2000/2000 [==============================] - 6s 3ms/step - loss: 0.0012 - acc: 1.0000 - val_loss: 0.4107 - val_acc: 0.8050\n",
      "Epoch 59/100\n",
      "2000/2000 [==============================] - 7s 4ms/step - loss: 0.0012 - acc: 1.0000 - val_loss: 0.4100 - val_acc: 0.8050\n",
      "Epoch 60/100\n",
      "2000/2000 [==============================] - 6s 3ms/step - loss: 0.0012 - acc: 1.0000 - val_loss: 0.4098 - val_acc: 0.8050\n",
      "Epoch 61/100\n",
      "2000/2000 [==============================] - 6s 3ms/step - loss: 0.0011 - acc: 1.0000 - val_loss: 0.4144 - val_acc: 0.8025\n",
      "Epoch 62/100\n",
      "2000/2000 [==============================] - 6s 3ms/step - loss: 0.0011 - acc: 1.0000 - val_loss: 0.4093 - val_acc: 0.8050\n",
      "Epoch 63/100\n",
      "2000/2000 [==============================] - 6s 3ms/step - loss: 0.0011 - acc: 1.0000 - val_loss: 0.4137 - val_acc: 0.8050\n",
      "Epoch 64/100\n",
      "2000/2000 [==============================] - 6s 3ms/step - loss: 0.0011 - acc: 1.0000 - val_loss: 0.4120 - val_acc: 0.8050\n",
      "Epoch 65/100\n",
      "2000/2000 [==============================] - 6s 3ms/step - loss: 0.0011 - acc: 1.0000 - val_loss: 0.4186 - val_acc: 0.7975\n",
      "Epoch 66/100\n",
      "2000/2000 [==============================] - 6s 3ms/step - loss: 0.0010 - acc: 1.0000 - val_loss: 0.4152 - val_acc: 0.8050\n",
      "Epoch 67/100\n",
      "2000/2000 [==============================] - 6s 3ms/step - loss: 0.0010 - acc: 1.0000 - val_loss: 0.4150 - val_acc: 0.8050\n",
      "Epoch 68/100\n",
      "2000/2000 [==============================] - 7s 3ms/step - loss: 9.9422e-04 - acc: 1.0000 - val_loss: 0.4221 - val_acc: 0.7975\n",
      "Epoch 69/100\n",
      "2000/2000 [==============================] - 7s 3ms/step - loss: 9.7625e-04 - acc: 1.0000 - val_loss: 0.4197 - val_acc: 0.7950\n",
      "Epoch 70/100\n",
      "2000/2000 [==============================] - 6s 3ms/step - loss: 9.5821e-04 - acc: 1.0000 - val_loss: 0.4200 - val_acc: 0.7950\n",
      "Epoch 71/100\n",
      "2000/2000 [==============================] - 6s 3ms/step - loss: 9.4058e-04 - acc: 1.0000 - val_loss: 0.4155 - val_acc: 0.8050\n",
      "Epoch 72/100\n",
      "2000/2000 [==============================] - 7s 3ms/step - loss: 9.2539e-04 - acc: 1.0000 - val_loss: 0.4239 - val_acc: 0.7975\n",
      "Epoch 73/100\n",
      "2000/2000 [==============================] - 7s 3ms/step - loss: 9.0861e-04 - acc: 1.0000 - val_loss: 0.4256 - val_acc: 0.7975\n",
      "Epoch 74/100\n",
      "2000/2000 [==============================] - 7s 3ms/step - loss: 8.9329e-04 - acc: 1.0000 - val_loss: 0.4217 - val_acc: 0.8000\n",
      "Epoch 75/100\n",
      "2000/2000 [==============================] - 6s 3ms/step - loss: 8.7875e-04 - acc: 1.0000 - val_loss: 0.4201 - val_acc: 0.8050\n",
      "Epoch 76/100\n",
      "2000/2000 [==============================] - 6s 3ms/step - loss: 8.6393e-04 - acc: 1.0000 - val_loss: 0.4249 - val_acc: 0.7950\n",
      "Epoch 77/100\n",
      "2000/2000 [==============================] - 6s 3ms/step - loss: 8.5001e-04 - acc: 1.0000 - val_loss: 0.4264 - val_acc: 0.7950\n",
      "Epoch 78/100\n",
      "2000/2000 [==============================] - 6s 3ms/step - loss: 8.3600e-04 - acc: 1.0000 - val_loss: 0.4226 - val_acc: 0.8050\n",
      "Epoch 79/100\n",
      "2000/2000 [==============================] - 6s 3ms/step - loss: 8.2356e-04 - acc: 1.0000 - val_loss: 0.4240 - val_acc: 0.8000\n",
      "Epoch 80/100\n",
      "2000/2000 [==============================] - 6s 3ms/step - loss: 8.0974e-04 - acc: 1.0000 - val_loss: 0.4300 - val_acc: 0.7950\n",
      "Epoch 81/100\n",
      "2000/2000 [==============================] - 6s 3ms/step - loss: 7.9806e-04 - acc: 1.0000 - val_loss: 0.4261 - val_acc: 0.7975\n",
      "Epoch 82/100\n",
      "2000/2000 [==============================] - 7s 4ms/step - loss: 7.8548e-04 - acc: 1.0000 - val_loss: 0.4251 - val_acc: 0.8025\n",
      "Epoch 83/100\n",
      "2000/2000 [==============================] - 6s 3ms/step - loss: 7.7402e-04 - acc: 1.0000 - val_loss: 0.4284 - val_acc: 0.7950\n",
      "Epoch 84/100\n",
      "2000/2000 [==============================] - 7s 4ms/step - loss: 7.6200e-04 - acc: 1.0000 - val_loss: 0.4293 - val_acc: 0.7950\n",
      "Epoch 85/100\n",
      "2000/2000 [==============================] - 6s 3ms/step - loss: 7.5079e-04 - acc: 1.0000 - val_loss: 0.4275 - val_acc: 0.7975\n",
      "Epoch 86/100\n",
      "2000/2000 [==============================] - 6s 3ms/step - loss: 7.4017e-04 - acc: 1.0000 - val_loss: 0.4307 - val_acc: 0.7950\n",
      "Epoch 87/100\n",
      "2000/2000 [==============================] - 6s 3ms/step - loss: 7.2943e-04 - acc: 1.0000 - val_loss: 0.4328 - val_acc: 0.7925\n",
      "Epoch 88/100\n",
      "2000/2000 [==============================] - 6s 3ms/step - loss: 7.1952e-04 - acc: 1.0000 - val_loss: 0.4305 - val_acc: 0.7950\n",
      "Epoch 89/100\n",
      "2000/2000 [==============================] - 6s 3ms/step - loss: 7.0911e-04 - acc: 1.0000 - val_loss: 0.4320 - val_acc: 0.7950\n",
      "Epoch 90/100\n",
      "2000/2000 [==============================] - 6s 3ms/step - loss: 6.9958e-04 - acc: 1.0000 - val_loss: 0.4319 - val_acc: 0.7950\n",
      "Epoch 91/100\n",
      "2000/2000 [==============================] - 6s 3ms/step - loss: 6.8981e-04 - acc: 1.0000 - val_loss: 0.4350 - val_acc: 0.7925\n",
      "Epoch 92/100\n",
      "2000/2000 [==============================] - 6s 3ms/step - loss: 6.8070e-04 - acc: 1.0000 - val_loss: 0.4367 - val_acc: 0.7900\n",
      "Epoch 93/100\n",
      "2000/2000 [==============================] - 7s 3ms/step - loss: 6.7221e-04 - acc: 1.0000 - val_loss: 0.4352 - val_acc: 0.7925\n",
      "Epoch 94/100\n",
      "2000/2000 [==============================] - 6s 3ms/step - loss: 6.6313e-04 - acc: 1.0000 - val_loss: 0.4342 - val_acc: 0.7950\n",
      "Epoch 95/100\n",
      "2000/2000 [==============================] - 6s 3ms/step - loss: 6.5440e-04 - acc: 1.0000 - val_loss: 0.4366 - val_acc: 0.7925\n",
      "Epoch 96/100\n",
      "2000/2000 [==============================] - 6s 3ms/step - loss: 6.4564e-04 - acc: 1.0000 - val_loss: 0.4348 - val_acc: 0.7950\n",
      "Epoch 97/100\n",
      "2000/2000 [==============================] - 6s 3ms/step - loss: 6.3755e-04 - acc: 1.0000 - val_loss: 0.4358 - val_acc: 0.7925\n",
      "Epoch 98/100\n",
      "2000/2000 [==============================] - 6s 3ms/step - loss: 6.2958e-04 - acc: 1.0000 - val_loss: 0.4371 - val_acc: 0.7925\n",
      "Epoch 99/100\n",
      "2000/2000 [==============================] - 6s 3ms/step - loss: 6.2167e-04 - acc: 1.0000 - val_loss: 0.4368 - val_acc: 0.7925\n",
      "Epoch 100/100\n",
      "2000/2000 [==============================] - 6s 3ms/step - loss: 6.1404e-04 - acc: 1.0000 - val_loss: 0.4377 - val_acc: 0.7925\n"
     ]
    }
   ],
   "source": [
    "log = model.fit(X_train, y_train, batch_size=bs, epochs=epochs, validation_data=[X_val, y_val])"
   ]
  },
  {
   "cell_type": "code",
   "execution_count": 50,
   "metadata": {},
   "outputs": [
    {
     "data": {
      "image/png": "[encoded data removed]",
      "text/plain": [
       "<Figure size 432x288 with 1 Axes>"
      ]
     },
     "metadata": {
      "needs_background": "light"
     },
     "output_type": "display_data"
    }
   ],
   "source": [
    "plt.plot(log.history['loss'], label='train')\n",
    "plt.plot(log.history['val_loss'], label='validation')\n",
    "plt.legend();"
   ]
  }
 ],
 "metadata": {
  "kernelspec": {
   "display_name": "Python 3",
   "language": "python",
   "name": "python3"
  },
  "language_info": {
   "codemirror_mode": {
    "name": "ipython",
    "version": 3
   },
   "file_extension": ".py",
   "mimetype": "text/x-python",
   "name": "python",
   "nbconvert_exporter": "python",
   "pygments_lexer": "ipython3",
   "version": "3.7.3"
  }
 },
 "nbformat": 4,
 "nbformat_minor": 2
}
