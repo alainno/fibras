{
 "cells": [
  {
   "cell_type": "code",
   "execution_count": 3,
   "metadata": {
    "pycharm": {
     "is_executing": false
    }
   },
   "outputs": [
    {
     "data": {
      "text/plain": [
       "(2000, 256, 256)"
      ]
     },
     "execution_count": 3,
     "metadata": {},
     "output_type": "execute_result"
    }
   ],
   "source": [
    "from keras.preprocessing.image import ImageDataGenerator, array_to_img, img_to_array, load_img\n",
    "import os\n",
    "import resource\n",
    "import numpy as np\n",
    "from skimage import img_as_bool, io, color\n",
    "\n",
    "soft, hard = resource.getrlimit(resource.RLIMIT_NOFILE)\n",
    "resource.setrlimit(resource.RLIMIT_NOFILE, (hard, hard))\n",
    "\n",
    "thickTrainDir = \"data/train/thick/\"\n",
    "thinTrainDir = \"data/train/thin/\"\n",
    "thickValDir = \"data/validation/thick/\"\n",
    "thinValDir = \"data/validation/thin/\"\n",
    "\n",
    "X_train = []\n",
    "y_train = []\n",
    "X_val = []\n",
    "y_val = []\n",
    "\n",
    "#thickImgs = os.listdir(thickTrainDir)\n",
    "#for thickImg in thickImgs:\n",
    "#    imgPath = thickTrainDir + thickImg\n",
    "#    if not os.path.isdir(imgPath) :\n",
    "#        x = load_img(imgPath)\n",
    "#        x = img_as_bool(color.rgb2gray(io.imread(imgPath)))\n",
    "#        x_train.append(x)\n",
    "\n",
    "#x_train = np.array(x_train)\n",
    "\n",
    "def appendImgs(imglist, labels, directory):\n",
    "    imgs = os.listdir(directory)\n",
    "    for img in imgs:\n",
    "        imgPath = directory + img\n",
    "        if not os.path.isdir(imgPath) :\n",
    "            x = load_img(imgPath)\n",
    "            x = img_as_bool(color.rgb2gray(io.imread(imgPath)))\n",
    "            imglist.append(x)\n",
    "            if 'thick' in imgPath:\n",
    "                labels.append(1)\n",
    "            elif 'thin' in imgPath:\n",
    "                labels.append(0)\n",
    "\n",
    "appendImgs(X_train, y_train, thickTrainDir)\n",
    "appendImgs(X_train, y_train, thinTrainDir)\n",
    "\n",
    "appendImgs(X_val, y_val, thickValDir)\n",
    "appendImgs(X_val, y_val, thinValDir)\n",
    "\n",
    "X_train = np.array(X_train)\n",
    "y_train = np.array(y_train)\n",
    "\n",
    "X_val = np.array(X_val)\n",
    "y_val = np.array(y_val)\n",
    "\n",
    "X_train.shape\n",
    "\n",
    "\n",
    "#train_thick =   \n",
    "\n",
    "# create generator\n",
    "#datagen = ImageDataGenerator()"
   ]
  },
  {
   "cell_type": "code",
   "execution_count": 6,
   "metadata": {},
   "outputs": [
    {
     "data": {
      "text/plain": [
       "<matplotlib.image.AxesImage at 0x7fe622c77748>"
      ]
     },
     "execution_count": 6,
     "metadata": {},
     "output_type": "execute_result"
    },
    {
     "data": {
      "image/png": "[encoded data removed]",
      "text/plain": [
       "<Figure size 432x288 with 1 Axes>"
      ]
     },
     "metadata": {
      "needs_background": "light"
     },
     "output_type": "display_data"
    }
   ],
   "source": [
    "import matplotlib.pyplot as plt\n",
    "\n",
    "plt.imshow(X_train[-1])"
   ]
  },
  {
   "cell_type": "code",
   "execution_count": null,
   "metadata": {},
   "outputs": [],
   "source": []
  },
  {
   "cell_type": "code",
   "execution_count": 6,
   "metadata": {
    "pycharm": {
     "is_executing": false
    }
   },
   "outputs": [
    {
     "name": "stdout",
     "output_type": "stream",
     "text": [
      "Found 2001 images belonging to 2 classes.\n",
      "Found 400 images belonging to 2 classes.\n"
     ]
    },
    {
     "data": {
      "text/plain": [
       "<keras_preprocessing.image.directory_iterator.DirectoryIterator at 0x7f2fb137b208>"
      ]
     },
     "execution_count": 6,
     "metadata": {},
     "output_type": "execute_result"
    }
   ],
   "source": [
    "#train_it = datagen.flow_from_directory('data/train/', class_mode='binary')\n",
    "#val_it = datagen.flow_from_directory('data/validation/', class_mode='binary')\n",
    "\n",
    "train_it\n",
    "\n",
    "#import matplotlib.pyplot as plt\n",
    "\n",
    "#plt.imshow(train_it[0], cmap='gray', vmin=0, vmax=255)\n",
    "#plt.show()\n",
    "\n",
    "\n",
    "#batchX, batchy = train_it.next()\n",
    "#print('Batch shape=%s, min=%.3f, max=%.3f' % (batchX.shape, batchX.min(), batchX.max()))"
   ]
  },
  {
   "cell_type": "code",
   "execution_count": 10,
   "metadata": {
    "pycharm": {
     "is_executing": false
    }
   },
   "outputs": [
    {
     "name": "stdout",
     "output_type": "stream",
     "text": [
      "_________________________________________________________________\n",
      "Layer (type)                 Output Shape              Param #   \n",
      "=================================================================\n",
      "flatten_2 (Flatten)          (None, 65536)             0         \n",
      "_________________________________________________________________\n",
      "dense_3 (Dense)              (None, 128)               8388736   \n",
      "_________________________________________________________________\n",
      "dense_4 (Dense)              (None, 2)                 258       \n",
      "=================================================================\n",
      "Total params: 8,388,994\n",
      "Trainable params: 8,388,994\n",
      "Non-trainable params: 0\n",
      "_________________________________________________________________\n"
     ]
    }
   ],
   "source": [
    "import keras\n",
    "from keras.layers import Dense, Flatten\n",
    "from keras.models import Sequential\n",
    "from keras.optimizers import SGD\n",
    "\n",
    "bs = 32\n",
    "epochs = 10\n",
    "lr = 0.001\n",
    "\n",
    "model = Sequential()\n",
    "model.add(Flatten(input_shape=X_train[0].shape))\n",
    "model.add(Dense(128, activation='relu'))\n",
    "model.add(Dense(2, activation='softmax'))\n",
    "\n",
    "model.compile(optimizer=SGD(lr), loss='sparse_categorical_crossentropy', metrics=['accuracy'])\n",
    "\n",
    "model.summary()"
   ]
  },
  {
   "cell_type": "code",
   "execution_count": 11,
   "metadata": {
    "pycharm": {
     "is_executing": false
    }
   },
   "outputs": [
    {
     "name": "stdout",
     "output_type": "stream",
     "text": [
      "Train on 2000 samples, validate on 400 samples\n",
      "Epoch 1/10\n",
      "2000/2000 [==============================] - 6s 3ms/step - loss: 7.9627 - acc: 0.5030 - val_loss: 8.0590 - val_acc: 0.5000\n",
      "Epoch 2/10\n",
      "2000/2000 [==============================] - 6s 3ms/step - loss: 8.0590 - acc: 0.5000 - val_loss: 8.0590 - val_acc: 0.5000\n",
      "Epoch 3/10\n",
      "2000/2000 [==============================] - 6s 3ms/step - loss: 8.0590 - acc: 0.5000 - val_loss: 8.0590 - val_acc: 0.5000\n",
      "Epoch 4/10\n",
      "2000/2000 [==============================] - 6s 3ms/step - loss: 8.0590 - acc: 0.5000 - val_loss: 8.0590 - val_acc: 0.5000\n",
      "Epoch 5/10\n",
      "2000/2000 [==============================] - 6s 3ms/step - loss: 8.0590 - acc: 0.5000 - val_loss: 8.0590 - val_acc: 0.5000\n",
      "Epoch 6/10\n",
      "2000/2000 [==============================] - 6s 3ms/step - loss: 8.0590 - acc: 0.5000 - val_loss: 8.0590 - val_acc: 0.5000\n",
      "Epoch 7/10\n",
      "2000/2000 [==============================] - 6s 3ms/step - loss: 8.0590 - acc: 0.5000 - val_loss: 8.0590 - val_acc: 0.5000\n",
      "Epoch 8/10\n",
      "2000/2000 [==============================] - 6s 3ms/step - loss: 8.0590 - acc: 0.5000 - val_loss: 8.0590 - val_acc: 0.5000\n",
      "Epoch 9/10\n",
      "2000/2000 [==============================] - 6s 3ms/step - loss: 8.0590 - acc: 0.5000 - val_loss: 8.0590 - val_acc: 0.5000\n",
      "Epoch 10/10\n",
      "2000/2000 [==============================] - 6s 3ms/step - loss: 8.0590 - acc: 0.5000 - val_loss: 8.0590 - val_acc: 0.5000\n"
     ]
    }
   ],
   "source": [
    "log = model.fit(X_train, y_train, batch_size=bs, epochs=epochs, validation_data=[X_val, y_val])"
   ]
  },
  {
   "cell_type": "code",
   "execution_count": 12,
   "metadata": {},
   "outputs": [
    {
     "data": {
      "image/png": "[encoded data removed]",
      "text/plain": [
       "<Figure size 432x288 with 1 Axes>"
      ]
     },
     "metadata": {
      "needs_background": "light"
     },
     "output_type": "display_data"
    }
   ],
   "source": [
    "plt.plot(log.history['loss'], label='train')\n",
    "plt.plot(log.history['val_loss'], label='validation')\n",
    "plt.legend();"
   ]
  }
 ],
 "metadata": {
  "kernelspec": {
   "display_name": "Python 3",
   "language": "python",
   "name": "python3"
  },
  "language_info": {
   "codemirror_mode": {
    "name": "ipython",
    "version": 3
   },
   "file_extension": ".py",
   "mimetype": "text/x-python",
   "name": "python",
   "nbconvert_exporter": "python",
   "pygments_lexer": "ipython3",
   "version": "3.7.3"
  }
 },
 "nbformat": 4,
 "nbformat_minor": 2
}
